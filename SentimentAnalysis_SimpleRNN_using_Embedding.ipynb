{
  "nbformat": 4,
  "nbformat_minor": 0,
  "metadata": {
    "colab": {
      "provenance": [],
      "collapsed_sections": []
    },
    "kernelspec": {
      "name": "python3",
      "display_name": "Python 3"
    },
    "language_info": {
      "name": "python"
    },
    "accelerator": "GPU",
    "gpuClass": "standard"
  },
  "cells": [
    {
      "cell_type": "markdown",
      "source": [
        "Sentiment Analysis using Embedding"
      ],
      "metadata": {
        "id": "p5aBbYJ3ychB"
      }
    },
    {
      "cell_type": "code",
      "source": [
        "from keras.datasets import imdb\n",
        "from keras.preprocessing.text import Tokenizer\n",
        "from keras.utils import pad_sequences\n",
        "from keras import Sequential\n",
        "from keras.layers import Dense, SimpleRNN, Embedding"
      ],
      "metadata": {
        "id": "JCBzjLQ9yLoO"
      },
      "execution_count": 1,
      "outputs": []
    },
    {
      "cell_type": "code",
      "source": [
        "(X_train,y_train), (X_test, y_test) = imdb.load_data()"
      ],
      "metadata": {
        "colab": {
          "base_uri": "https://localhost:8080/"
        },
        "id": "Dy4NaUhayLqN",
        "outputId": "33c1f29f-f953-495e-8742-2ae6eeb6f335"
      },
      "execution_count": 2,
      "outputs": [
        {
          "output_type": "stream",
          "name": "stdout",
          "text": [
            "Downloading data from https://storage.googleapis.com/tensorflow/tf-keras-datasets/imdb.npz\n",
            "17464789/17464789 [==============================] - 3s 0us/step\n"
          ]
        }
      ]
    },
    {
      "cell_type": "code",
      "source": [
        "X_train.shape"
      ],
      "metadata": {
        "colab": {
          "base_uri": "https://localhost:8080/"
        },
        "id": "5yM9vVH9yLsI",
        "outputId": "c2b38f6b-e05f-45d7-d6bf-9f0361e44c49"
      },
      "execution_count": 3,
      "outputs": [
        {
          "output_type": "execute_result",
          "data": {
            "text/plain": [
              "(25000,)"
            ]
          },
          "metadata": {},
          "execution_count": 3
        }
      ]
    },
    {
      "cell_type": "code",
      "source": [
        "y_train.shape"
      ],
      "metadata": {
        "colab": {
          "base_uri": "https://localhost:8080/"
        },
        "id": "C0NE9LblzXXQ",
        "outputId": "9bbc07da-f8d9-4df2-bf62-fcf4e85e6bf9"
      },
      "execution_count": 4,
      "outputs": [
        {
          "output_type": "execute_result",
          "data": {
            "text/plain": [
              "(25000,)"
            ]
          },
          "metadata": {},
          "execution_count": 4
        }
      ]
    },
    {
      "cell_type": "code",
      "source": [
        "y_train[4]"
      ],
      "metadata": {
        "colab": {
          "base_uri": "https://localhost:8080/"
        },
        "id": "I75LDoSyzdw2",
        "outputId": "d29de863-0eed-4cdf-f7b8-93461b820fde"
      },
      "execution_count": 5,
      "outputs": [
        {
          "output_type": "execute_result",
          "data": {
            "text/plain": [
              "0"
            ]
          },
          "metadata": {},
          "execution_count": 5
        }
      ]
    },
    {
      "cell_type": "code",
      "source": [
        "X_train = pad_sequences(X_train, padding='post', maxlen=150)\n",
        "X_test = pad_sequences(X_test, padding='post', maxlen=150)"
      ],
      "metadata": {
        "id": "UllZaHUOzIe6"
      },
      "execution_count": 6,
      "outputs": []
    },
    {
      "cell_type": "code",
      "source": [
        "X_train.shape"
      ],
      "metadata": {
        "colab": {
          "base_uri": "https://localhost:8080/"
        },
        "id": "dPaTxzX8zIg9",
        "outputId": "44165df8-3d72-4b09-b50a-8cd8fd3bc1bb"
      },
      "execution_count": 7,
      "outputs": [
        {
          "output_type": "execute_result",
          "data": {
            "text/plain": [
              "(25000, 150)"
            ]
          },
          "metadata": {},
          "execution_count": 7
        }
      ]
    },
    {
      "cell_type": "code",
      "source": [
        "model = Sequential()\n",
        "\n",
        "\"\"\"\n",
        "input_dim : Size of the vocabulary\n",
        "output_dim : Length of the vector for each word\n",
        "input_length : Maximum length of a sequence\n",
        "\"\"\"\n",
        "model.add(Embedding(input_dim=12000,output_dim= 2,input_length= 150))\n",
        "model.add(SimpleRNN(64, return_sequences=False))\n",
        "model.add(Dense(1, activation='sigmoid'))\n",
        "model.summary()"
      ],
      "metadata": {
        "colab": {
          "base_uri": "https://localhost:8080/"
        },
        "id": "Z97EAMBIzIk8",
        "outputId": "a457af4f-89d4-4bd4-90e9-cd2122ae5df8"
      },
      "execution_count": 8,
      "outputs": [
        {
          "output_type": "stream",
          "name": "stdout",
          "text": [
            "Model: \"sequential\"\n",
            "_________________________________________________________________\n",
            " Layer (type)                Output Shape              Param #   \n",
            "=================================================================\n",
            " embedding (Embedding)       (None, 150, 2)            24000     \n",
            "                                                                 \n",
            " simple_rnn (SimpleRNN)      (None, 64)                4288      \n",
            "                                                                 \n",
            " dense (Dense)               (None, 1)                 65        \n",
            "                                                                 \n",
            "=================================================================\n",
            "Total params: 28,353\n",
            "Trainable params: 28,353\n",
            "Non-trainable params: 0\n",
            "_________________________________________________________________\n"
          ]
        }
      ]
    },
    {
      "cell_type": "code",
      "source": [
        "model.compile(optimizer='adam', loss='binary_crossentropy', metrics=['accuracy'])"
      ],
      "metadata": {
        "id": "w1NcRgdzzInZ"
      },
      "execution_count": 9,
      "outputs": []
    },
    {
      "cell_type": "code",
      "source": [
        "model.fit(X_train, y_train, epochs=10, validation_data=(X_test, y_test))"
      ],
      "metadata": {
        "colab": {
          "base_uri": "https://localhost:8080/"
        },
        "id": "hKwXm7g-zIp4",
        "outputId": "79eddf5f-0b0d-4122-a1ff-f4724d22613e"
      },
      "execution_count": 10,
      "outputs": [
        {
          "output_type": "stream",
          "name": "stdout",
          "text": [
            "Epoch 1/10\n",
            "782/782 [==============================] - 114s 143ms/step - loss: 0.6943 - accuracy: 0.5070 - val_loss: 0.6913 - val_accuracy: 0.5150\n",
            "Epoch 2/10\n",
            "782/782 [==============================] - 111s 142ms/step - loss: 0.6814 - accuracy: 0.5569 - val_loss: 0.6855 - val_accuracy: 0.5319\n",
            "Epoch 3/10\n",
            "782/782 [==============================] - 112s 143ms/step - loss: 0.6620 - accuracy: 0.5863 - val_loss: 0.6822 - val_accuracy: 0.5351\n",
            "Epoch 4/10\n",
            "782/782 [==============================] - 112s 144ms/step - loss: 0.6430 - accuracy: 0.6086 - val_loss: 0.7128 - val_accuracy: 0.5352\n",
            "Epoch 5/10\n",
            "782/782 [==============================] - 111s 142ms/step - loss: 0.6202 - accuracy: 0.6264 - val_loss: 0.6995 - val_accuracy: 0.5512\n",
            "Epoch 6/10\n",
            "782/782 [==============================] - 110s 141ms/step - loss: 0.5997 - accuracy: 0.6384 - val_loss: 0.7199 - val_accuracy: 0.5438\n",
            "Epoch 7/10\n",
            "782/782 [==============================] - 111s 142ms/step - loss: 0.5782 - accuracy: 0.6526 - val_loss: 0.7542 - val_accuracy: 0.5524\n",
            "Epoch 8/10\n",
            "782/782 [==============================] - 110s 141ms/step - loss: 0.5626 - accuracy: 0.6665 - val_loss: 0.7351 - val_accuracy: 0.5492\n",
            "Epoch 9/10\n",
            "782/782 [==============================] - 112s 144ms/step - loss: 0.5300 - accuracy: 0.7000 - val_loss: 0.7006 - val_accuracy: 0.6364\n",
            "Epoch 10/10\n",
            "782/782 [==============================] - 112s 143ms/step - loss: 0.5452 - accuracy: 0.6916 - val_loss: 0.7119 - val_accuracy: 0.5547\n"
          ]
        },
        {
          "output_type": "execute_result",
          "data": {
            "text/plain": [
              "<keras.callbacks.History at 0x7ff2df3e2d10>"
            ]
          },
          "metadata": {},
          "execution_count": 10
        }
      ]
    },
    {
      "cell_type": "code",
      "source": [],
      "metadata": {
        "id": "Mph061QjyLuL"
      },
      "execution_count": null,
      "outputs": []
    },
    {
      "cell_type": "code",
      "source": [],
      "metadata": {
        "id": "xOv6EnIPyLv7"
      },
      "execution_count": null,
      "outputs": []
    },
    {
      "cell_type": "code",
      "source": [],
      "metadata": {
        "id": "Qhnb9qTgyLzT"
      },
      "execution_count": null,
      "outputs": []
    },
    {
      "cell_type": "code",
      "source": [],
      "metadata": {
        "id": "Pd9eT_nPyL7O"
      },
      "execution_count": null,
      "outputs": []
    }
  ]
}