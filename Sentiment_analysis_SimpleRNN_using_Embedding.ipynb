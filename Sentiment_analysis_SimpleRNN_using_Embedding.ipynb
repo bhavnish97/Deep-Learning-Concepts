{
  "nbformat": 4,
  "nbformat_minor": 0,
  "metadata": {
    "colab": {
      "provenance": [],
      "collapsed_sections": []
    },
    "kernelspec": {
      "name": "python3",
      "display_name": "Python 3"
    },
    "language_info": {
      "name": "python"
    },
    "accelerator": "GPU",
    "gpuClass": "standard"
  },
  "cells": [
    {
      "cell_type": "markdown",
      "source": [
        "Basic Embedding layer\n"
      ],
      "metadata": {
        "id": "tjWgYwlZ2KDC"
      }
    },
    {
      "cell_type": "code",
      "source": [
        "docs = ['hello there',\n",
        "         'How are you',\n",
        "         'Tell me about yourself',\n",
        "         'what is your favourite machine learning model',\n",
        "         'how do you rate youself in deep learning',\n",
        "         'good going',\n",
        "         'Differnce between ANN and CNN',\n",
        "         'what is RNN',\n",
        "         'Thank you']"
      ],
      "metadata": {
        "id": "v_vQ4fFh2JUP"
      },
      "execution_count": null,
      "outputs": []
    },
    {
      "cell_type": "code",
      "source": [
        "from keras.preprocessing.text import Tokenizer\n",
        "tokenizer = Tokenizer()"
      ],
      "metadata": {
        "id": "xRzvJNh1mRQW"
      },
      "execution_count": 2,
      "outputs": []
    },
    {
      "cell_type": "code",
      "source": [
        "tokenizer.fit_on_texts(docs)"
      ],
      "metadata": {
        "id": "2IhkPg6YmRYT"
      },
      "execution_count": 3,
      "outputs": []
    },
    {
      "cell_type": "code",
      "source": [
        "len(tokenizer.word_index)"
      ],
      "metadata": {
        "colab": {
          "base_uri": "https://localhost:8080/"
        },
        "id": "dP5g_Tmin4AG",
        "outputId": "df7ce850-3c97-4fcf-c02d-0159382a4d0e"
      },
      "execution_count": 4,
      "outputs": [
        {
          "output_type": "execute_result",
          "data": {
            "text/plain": [
              "30"
            ]
          },
          "metadata": {},
          "execution_count": 4
        }
      ]
    },
    {
      "cell_type": "code",
      "source": [
        "sequences = tokenizer.texts_to_sequences(docs)\n",
        "sequences"
      ],
      "metadata": {
        "colab": {
          "base_uri": "https://localhost:8080/"
        },
        "id": "lOv8NrFFmRcE",
        "outputId": "a378f83a-f293-4024-e9d0-00016ae54fb4"
      },
      "execution_count": 5,
      "outputs": [
        {
          "output_type": "execute_result",
          "data": {
            "text/plain": [
              "[[6, 7],\n",
              " [2, 8, 1],\n",
              " [9, 10, 11, 12],\n",
              " [3, 4, 13, 14, 15, 5, 16],\n",
              " [2, 17, 1, 18, 19, 20, 21, 5],\n",
              " [22, 23],\n",
              " [24, 25, 26, 27, 28],\n",
              " [3, 4, 29],\n",
              " [30, 1]]"
            ]
          },
          "metadata": {},
          "execution_count": 5
        }
      ]
    },
    {
      "cell_type": "code",
      "source": [
        "from keras.utils import pad_sequences\n",
        "sequences = pad_sequences(sequences,padding='post')\n",
        "sequences"
      ],
      "metadata": {
        "colab": {
          "base_uri": "https://localhost:8080/"
        },
        "id": "KG1RqcLnmRkA",
        "outputId": "e734cbdb-51c1-4ad8-9509-7ab153e9e84c"
      },
      "execution_count": 6,
      "outputs": [
        {
          "output_type": "execute_result",
          "data": {
            "text/plain": [
              "array([[ 6,  7,  0,  0,  0,  0,  0,  0],\n",
              "       [ 2,  8,  1,  0,  0,  0,  0,  0],\n",
              "       [ 9, 10, 11, 12,  0,  0,  0,  0],\n",
              "       [ 3,  4, 13, 14, 15,  5, 16,  0],\n",
              "       [ 2, 17,  1, 18, 19, 20, 21,  5],\n",
              "       [22, 23,  0,  0,  0,  0,  0,  0],\n",
              "       [24, 25, 26, 27, 28,  0,  0,  0],\n",
              "       [ 3,  4, 29,  0,  0,  0,  0,  0],\n",
              "       [30,  1,  0,  0,  0,  0,  0,  0]], dtype=int32)"
            ]
          },
          "metadata": {},
          "execution_count": 6
        }
      ]
    },
    {
      "cell_type": "code",
      "source": [
        "from keras.layers import Dense, Embedding\n",
        "from keras import Sequential\n",
        "model = Sequential()\n",
        "model.add(Embedding(30,output_dim=2,input_length=8))\n",
        "\n",
        "model.summary()"
      ],
      "metadata": {
        "colab": {
          "base_uri": "https://localhost:8080/"
        },
        "id": "ETWEOn4wmRzd",
        "outputId": "caf31256-c9ec-4ef1-a43d-c5a86ee933f5"
      },
      "execution_count": 7,
      "outputs": [
        {
          "output_type": "stream",
          "name": "stdout",
          "text": [
            "Model: \"sequential\"\n",
            "_________________________________________________________________\n",
            " Layer (type)                Output Shape              Param #   \n",
            "=================================================================\n",
            " embedding (Embedding)       (None, 8, 2)              60        \n",
            "                                                                 \n",
            "=================================================================\n",
            "Total params: 60\n",
            "Trainable params: 60\n",
            "Non-trainable params: 0\n",
            "_________________________________________________________________\n"
          ]
        }
      ]
    },
    {
      "cell_type": "code",
      "source": [
        "model.compile('adam','accuracy')"
      ],
      "metadata": {
        "id": "R68ghDfNmSAC"
      },
      "execution_count": 8,
      "outputs": []
    },
    {
      "cell_type": "code",
      "source": [
        "pred = model.predict(sequences)\n",
        "print(pred)"
      ],
      "metadata": {
        "colab": {
          "base_uri": "https://localhost:8080/"
        },
        "id": "ooYWO2NwoKoQ",
        "outputId": "9e3b0f9c-6207-4c44-c075-ccb95e4b7bd7"
      },
      "execution_count": 9,
      "outputs": [
        {
          "output_type": "stream",
          "name": "stdout",
          "text": [
            "1/1 [==============================] - 0s 169ms/step\n",
            "[[[ 0.00346814  0.03125259]\n",
            "  [-0.03906705 -0.01041567]\n",
            "  [ 0.01351956  0.02037248]\n",
            "  [ 0.01351956  0.02037248]\n",
            "  [ 0.01351956  0.02037248]\n",
            "  [ 0.01351956  0.02037248]\n",
            "  [ 0.01351956  0.02037248]\n",
            "  [ 0.01351956  0.02037248]]\n",
            "\n",
            " [[ 0.01347278 -0.0304449 ]\n",
            "  [-0.02160176  0.00259756]\n",
            "  [-0.02915454 -0.01232434]\n",
            "  [ 0.01351956  0.02037248]\n",
            "  [ 0.01351956  0.02037248]\n",
            "  [ 0.01351956  0.02037248]\n",
            "  [ 0.01351956  0.02037248]\n",
            "  [ 0.01351956  0.02037248]]\n",
            "\n",
            " [[ 0.04948447  0.03134072]\n",
            "  [ 0.001392   -0.03384506]\n",
            "  [-0.01332846  0.04443706]\n",
            "  [ 0.02950687  0.0340886 ]\n",
            "  [ 0.01351956  0.02037248]\n",
            "  [ 0.01351956  0.02037248]\n",
            "  [ 0.01351956  0.02037248]\n",
            "  [ 0.01351956  0.02037248]]\n",
            "\n",
            " [[-0.02316178 -0.02581756]\n",
            "  [ 0.02090914 -0.01326864]\n",
            "  [ 0.03104255 -0.0135466 ]\n",
            "  [-0.04190464 -0.02638078]\n",
            "  [-0.02936462 -0.04992527]\n",
            "  [ 0.03698895 -0.03291283]\n",
            "  [-0.04991617 -0.03605022]\n",
            "  [ 0.01351956  0.02037248]]\n",
            "\n",
            " [[ 0.01347278 -0.0304449 ]\n",
            "  [ 0.0106849   0.04679335]\n",
            "  [-0.02915454 -0.01232434]\n",
            "  [ 0.03788369 -0.04019972]\n",
            "  [ 0.04519471 -0.03168543]\n",
            "  [ 0.04532614 -0.03141635]\n",
            "  [-0.03824187 -0.01605208]\n",
            "  [ 0.03698895 -0.03291283]]\n",
            "\n",
            " [[-0.03634685 -0.02061756]\n",
            "  [ 0.02018619 -0.03780036]\n",
            "  [ 0.01351956  0.02037248]\n",
            "  [ 0.01351956  0.02037248]\n",
            "  [ 0.01351956  0.02037248]\n",
            "  [ 0.01351956  0.02037248]\n",
            "  [ 0.01351956  0.02037248]\n",
            "  [ 0.01351956  0.02037248]]\n",
            "\n",
            " [[ 0.01838619  0.02883497]\n",
            "  [-0.03249452  0.02300935]\n",
            "  [-0.00225866  0.02597066]\n",
            "  [-0.01699897 -0.03482598]\n",
            "  [-0.04961355  0.04099685]\n",
            "  [ 0.01351956  0.02037248]\n",
            "  [ 0.01351956  0.02037248]\n",
            "  [ 0.01351956  0.02037248]]\n",
            "\n",
            " [[-0.02316178 -0.02581756]\n",
            "  [ 0.02090914 -0.01326864]\n",
            "  [ 0.00983141  0.02163256]\n",
            "  [ 0.01351956  0.02037248]\n",
            "  [ 0.01351956  0.02037248]\n",
            "  [ 0.01351956  0.02037248]\n",
            "  [ 0.01351956  0.02037248]\n",
            "  [ 0.01351956  0.02037248]]\n",
            "\n",
            " [[ 0.          0.        ]\n",
            "  [-0.02915454 -0.01232434]\n",
            "  [ 0.01351956  0.02037248]\n",
            "  [ 0.01351956  0.02037248]\n",
            "  [ 0.01351956  0.02037248]\n",
            "  [ 0.01351956  0.02037248]\n",
            "  [ 0.01351956  0.02037248]\n",
            "  [ 0.01351956  0.02037248]]]\n"
          ]
        }
      ]
    },
    {
      "cell_type": "markdown",
      "source": [
        "Sentiment Analysis using Embedding"
      ],
      "metadata": {
        "id": "p5aBbYJ3ychB"
      }
    },
    {
      "cell_type": "code",
      "source": [
        "from keras.datasets import imdb\n",
        "from keras.preprocessing.text import Tokenizer\n",
        "from keras.utils import pad_sequences\n",
        "from keras import Sequential\n",
        "from keras.layers import Dense, SimpleRNN, Embedding"
      ],
      "metadata": {
        "id": "JCBzjLQ9yLoO"
      },
      "execution_count": 34,
      "outputs": []
    },
    {
      "cell_type": "code",
      "source": [
        "(X_train,y_train), (X_test, y_test) = imdb.load_data()"
      ],
      "metadata": {
        "id": "Dy4NaUhayLqN"
      },
      "execution_count": 35,
      "outputs": []
    },
    {
      "cell_type": "code",
      "source": [
        "X_train.shape"
      ],
      "metadata": {
        "colab": {
          "base_uri": "https://localhost:8080/"
        },
        "id": "5yM9vVH9yLsI",
        "outputId": "33da3a26-2ca0-49b7-cddc-b7255093cb82"
      },
      "execution_count": 36,
      "outputs": [
        {
          "output_type": "execute_result",
          "data": {
            "text/plain": [
              "(25000,)"
            ]
          },
          "metadata": {},
          "execution_count": 36
        }
      ]
    },
    {
      "cell_type": "code",
      "source": [
        "y_train.shape"
      ],
      "metadata": {
        "colab": {
          "base_uri": "https://localhost:8080/"
        },
        "id": "C0NE9LblzXXQ",
        "outputId": "d790badc-ee95-41be-942f-e1d6810ce4dc"
      },
      "execution_count": 37,
      "outputs": [
        {
          "output_type": "execute_result",
          "data": {
            "text/plain": [
              "(25000,)"
            ]
          },
          "metadata": {},
          "execution_count": 37
        }
      ]
    },
    {
      "cell_type": "code",
      "source": [
        "y_train[4]"
      ],
      "metadata": {
        "colab": {
          "base_uri": "https://localhost:8080/"
        },
        "id": "I75LDoSyzdw2",
        "outputId": "9a837e63-ff26-4c22-9c49-dc1b23664daa"
      },
      "execution_count": 38,
      "outputs": [
        {
          "output_type": "execute_result",
          "data": {
            "text/plain": [
              "0"
            ]
          },
          "metadata": {},
          "execution_count": 38
        }
      ]
    },
    {
      "cell_type": "code",
      "source": [
        "X_train[0]"
      ],
      "metadata": {
        "id": "1MQrqNa1zd0G"
      },
      "execution_count": null,
      "outputs": []
    },
    {
      "cell_type": "code",
      "source": [
        "X_train = pad_sequences(X_train, padding='post', maxlen=40)\n",
        "X_test = pad_sequences(X_train, padding='post', maxlen=40)"
      ],
      "metadata": {
        "id": "UllZaHUOzIe6"
      },
      "execution_count": 39,
      "outputs": []
    },
    {
      "cell_type": "code",
      "source": [
        "X_train.shape"
      ],
      "metadata": {
        "colab": {
          "base_uri": "https://localhost:8080/"
        },
        "id": "dPaTxzX8zIg9",
        "outputId": "9b2220ef-cba4-4ea8-af2e-1c3f1a1a394f"
      },
      "execution_count": 40,
      "outputs": [
        {
          "output_type": "execute_result",
          "data": {
            "text/plain": [
              "(25000, 40)"
            ]
          },
          "metadata": {},
          "execution_count": 40
        }
      ]
    },
    {
      "cell_type": "code",
      "source": [
        "model = Sequential()\n",
        "\n",
        "\"\"\"\n",
        "input_dim : Size of the vocabulary\n",
        "output_dim : Length of the vector for each word\n",
        "input_length : Maximum length of a sequence\n",
        "\"\"\"\n",
        "model.add(Embedding(input_dim=12000,output_dim= 2,input_length= 40))\n",
        "model.add(SimpleRNN(64, return_sequences=False))\n",
        "model.add(Dense(1, activation='sigmoid'))\n",
        "model.summary()"
      ],
      "metadata": {
        "colab": {
          "base_uri": "https://localhost:8080/"
        },
        "id": "Z97EAMBIzIk8",
        "outputId": "2eeea5b2-8a10-4025-d317-0e04bb29c5c7"
      },
      "execution_count": 41,
      "outputs": [
        {
          "output_type": "stream",
          "name": "stdout",
          "text": [
            "Model: \"sequential_5\"\n",
            "_________________________________________________________________\n",
            " Layer (type)                Output Shape              Param #   \n",
            "=================================================================\n",
            " embedding_5 (Embedding)     (None, 40, 2)             24000     \n",
            "                                                                 \n",
            " simple_rnn_3 (SimpleRNN)    (None, 64)                4288      \n",
            "                                                                 \n",
            " dense_3 (Dense)             (None, 1)                 65        \n",
            "                                                                 \n",
            "=================================================================\n",
            "Total params: 28,353\n",
            "Trainable params: 28,353\n",
            "Non-trainable params: 0\n",
            "_________________________________________________________________\n"
          ]
        }
      ]
    },
    {
      "cell_type": "code",
      "source": [
        "model.compile(optimizer='adam', loss='binary_crossentropy', metrics=['accuracy'])"
      ],
      "metadata": {
        "id": "w1NcRgdzzInZ"
      },
      "execution_count": 42,
      "outputs": []
    },
    {
      "cell_type": "code",
      "source": [
        "model.fit(X_train, y_train, epochs=10, validation_data=(X_test, y_test))"
      ],
      "metadata": {
        "colab": {
          "base_uri": "https://localhost:8080/"
        },
        "id": "hKwXm7g-zIp4",
        "outputId": "df705a79-8ab8-4480-eb90-899266d5ccbb"
      },
      "execution_count": 43,
      "outputs": [
        {
          "output_type": "stream",
          "name": "stdout",
          "text": [
            "Epoch 1/10\n",
            "782/782 [==============================] - 37s 46ms/step - loss: 0.6115 - accuracy: 0.6276 - val_loss: 0.9446 - val_accuracy: 0.4991\n",
            "Epoch 2/10\n",
            "782/782 [==============================] - 34s 43ms/step - loss: 0.4027 - accuracy: 0.8186 - val_loss: 1.0863 - val_accuracy: 0.4974\n",
            "Epoch 3/10\n",
            "782/782 [==============================] - 33s 42ms/step - loss: 0.3314 - accuracy: 0.8612 - val_loss: 1.4482 - val_accuracy: 0.4972\n",
            "Epoch 4/10\n",
            "782/782 [==============================] - 34s 44ms/step - loss: 0.2932 - accuracy: 0.8824 - val_loss: 1.5098 - val_accuracy: 0.4972\n",
            "Epoch 5/10\n",
            "782/782 [==============================] - 33s 43ms/step - loss: 0.2587 - accuracy: 0.9003 - val_loss: 1.7721 - val_accuracy: 0.4976\n",
            "Epoch 6/10\n",
            "782/782 [==============================] - 34s 44ms/step - loss: 0.2291 - accuracy: 0.9134 - val_loss: 1.7182 - val_accuracy: 0.4969\n",
            "Epoch 7/10\n",
            "782/782 [==============================] - 33s 43ms/step - loss: 0.2034 - accuracy: 0.9249 - val_loss: 1.7369 - val_accuracy: 0.4971\n",
            "Epoch 8/10\n",
            "782/782 [==============================] - 32s 41ms/step - loss: 0.1787 - accuracy: 0.9366 - val_loss: 1.9068 - val_accuracy: 0.4971\n",
            "Epoch 9/10\n",
            "782/782 [==============================] - 33s 43ms/step - loss: 0.1573 - accuracy: 0.9458 - val_loss: 2.3040 - val_accuracy: 0.4962\n",
            "Epoch 10/10\n",
            "782/782 [==============================] - 34s 43ms/step - loss: 0.1403 - accuracy: 0.9524 - val_loss: 2.2050 - val_accuracy: 0.4984\n"
          ]
        },
        {
          "output_type": "execute_result",
          "data": {
            "text/plain": [
              "<keras.callbacks.History at 0x7f6e46d55dd0>"
            ]
          },
          "metadata": {},
          "execution_count": 43
        }
      ]
    },
    {
      "cell_type": "code",
      "source": [],
      "metadata": {
        "id": "Mph061QjyLuL"
      },
      "execution_count": null,
      "outputs": []
    },
    {
      "cell_type": "code",
      "source": [],
      "metadata": {
        "id": "xOv6EnIPyLv7"
      },
      "execution_count": null,
      "outputs": []
    },
    {
      "cell_type": "code",
      "source": [],
      "metadata": {
        "id": "Qhnb9qTgyLzT"
      },
      "execution_count": null,
      "outputs": []
    },
    {
      "cell_type": "code",
      "source": [],
      "metadata": {
        "id": "Pd9eT_nPyL7O"
      },
      "execution_count": null,
      "outputs": []
    }
  ]
}