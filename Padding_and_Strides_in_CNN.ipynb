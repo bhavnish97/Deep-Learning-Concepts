{
  "nbformat": 4,
  "nbformat_minor": 0,
  "metadata": {
    "colab": {
      "provenance": [],
      "collapsed_sections": []
    },
    "kernelspec": {
      "name": "python3",
      "display_name": "Python 3"
    },
    "language_info": {
      "name": "python"
    }
  },
  "cells": [
    {
      "cell_type": "code",
      "execution_count": 1,
      "metadata": {
        "id": "T1YuSi6bGgzO"
      },
      "outputs": [],
      "source": [
        "import tensorflow\n",
        "from tensorflow import keras\n",
        "from keras.layers import Dense, Flatten, Conv2D\n",
        "from keras import Sequential\n",
        "from keras.datasets import mnist"
      ]
    },
    {
      "cell_type": "code",
      "source": [
        "# importing the datasets from Mnist\n",
        "(X_train,y_train), (X_test, y_test) = mnist.load_data()"
      ],
      "metadata": {
        "colab": {
          "base_uri": "https://localhost:8080/"
        },
        "id": "e6xCoFvBOqUZ",
        "outputId": "a1136141-0a2d-47ce-c592-e1455ef6386c"
      },
      "execution_count": 2,
      "outputs": [
        {
          "output_type": "stream",
          "name": "stdout",
          "text": [
            "Downloading data from https://storage.googleapis.com/tensorflow/tf-keras-datasets/mnist.npz\n",
            "11490434/11490434 [==============================] - 0s 0us/step\n"
          ]
        }
      ]
    },
    {
      "cell_type": "code",
      "source": [
        "X_train.shape"
      ],
      "metadata": {
        "colab": {
          "base_uri": "https://localhost:8080/"
        },
        "id": "NcCPybLPOqWb",
        "outputId": "a5f5402c-4db1-40e4-bb2b-8d5cc9c1fd46"
      },
      "execution_count": 5,
      "outputs": [
        {
          "output_type": "execute_result",
          "data": {
            "text/plain": [
              "(60000, 28, 28)"
            ]
          },
          "metadata": {},
          "execution_count": 5
        }
      ]
    },
    {
      "cell_type": "code",
      "source": [
        "X_test.shape"
      ],
      "metadata": {
        "colab": {
          "base_uri": "https://localhost:8080/"
        },
        "id": "vflC0ZcOOqah",
        "outputId": "9523d073-4201-4f37-e80d-c54a8d715499"
      },
      "execution_count": 6,
      "outputs": [
        {
          "output_type": "execute_result",
          "data": {
            "text/plain": [
              "(10000, 28, 28)"
            ]
          },
          "metadata": {},
          "execution_count": 6
        }
      ]
    },
    {
      "cell_type": "markdown",
      "source": [
        "Valid Padding with Stride (1,1)"
      ],
      "metadata": {
        "id": "a9EmTlY_RJrP"
      }
    },
    {
      "cell_type": "code",
      "source": [
        "model = Sequential()\n",
        "\n",
        "#Convolution Layers\n",
        "model.add(Conv2D(24, kernel_size=(3,3), padding='valid',strides=(1,1), activation='relu', input_shape=(28,28,1)))\n",
        "model.add(Conv2D(24, kernel_size=(3,3), padding='valid',strides=(1,1), activation='relu'))\n",
        "model.add(Conv2D(24, kernel_size=(3,3), padding='valid', strides=(1,1), activation='relu'))\n",
        "model.add(Conv2D(24, kernel_size=(3,3), padding='valid', strides=(1,1), activation='relu'))\n",
        "\n",
        "# Flatten layer\n",
        "model.add(Flatten())\n",
        "\n",
        "# Fully connected network\n",
        "model.add(Dense(64, activation='relu'))\n",
        "model.add(Dense(10,activation='softmax'))"
      ],
      "metadata": {
        "id": "uIuszuiFOqci"
      },
      "execution_count": 10,
      "outputs": []
    },
    {
      "cell_type": "code",
      "source": [
        "model.summary()"
      ],
      "metadata": {
        "colab": {
          "base_uri": "https://localhost:8080/"
        },
        "id": "jjbkOC3cP8k1",
        "outputId": "be1a3a48-0198-4889-8051-09055ba3fc7a"
      },
      "execution_count": 11,
      "outputs": [
        {
          "output_type": "stream",
          "name": "stdout",
          "text": [
            "Model: \"sequential_2\"\n",
            "_________________________________________________________________\n",
            " Layer (type)                Output Shape              Param #   \n",
            "=================================================================\n",
            " conv2d_8 (Conv2D)           (None, 26, 26, 24)        240       \n",
            "                                                                 \n",
            " conv2d_9 (Conv2D)           (None, 24, 24, 24)        5208      \n",
            "                                                                 \n",
            " conv2d_10 (Conv2D)          (None, 22, 22, 24)        5208      \n",
            "                                                                 \n",
            " conv2d_11 (Conv2D)          (None, 20, 20, 24)        5208      \n",
            "                                                                 \n",
            " flatten_2 (Flatten)         (None, 9600)              0         \n",
            "                                                                 \n",
            " dense_2 (Dense)             (None, 64)                614464    \n",
            "                                                                 \n",
            " dense_3 (Dense)             (None, 10)                650       \n",
            "                                                                 \n",
            "=================================================================\n",
            "Total params: 630,978\n",
            "Trainable params: 630,978\n",
            "Non-trainable params: 0\n",
            "_________________________________________________________________\n"
          ]
        }
      ]
    },
    {
      "cell_type": "markdown",
      "source": [
        "Same Padding with strides (1,1)"
      ],
      "metadata": {
        "id": "fde7H_I5Rzm2"
      }
    },
    {
      "cell_type": "code",
      "source": [
        "model = Sequential()\n",
        "\n",
        "#Convolution Layers\n",
        "model.add(Conv2D(24, kernel_size=(3,3), padding='same',strides=(1,1), activation='relu', input_shape=(28,28,1)))\n",
        "model.add(Conv2D(24, kernel_size=(3,3), padding='same',strides=(1,1), activation='relu'))\n",
        "model.add(Conv2D(24, kernel_size=(3,3), padding='same',strides=(1,1), activation='relu'))\n",
        "model.add(Conv2D(24, kernel_size=(3,3), padding='same',strides=(1,1), activation='relu'))\n",
        "\n",
        "# Flatten layer\n",
        "model.add(Flatten())\n",
        "\n",
        "# Fully connected network\n",
        "model.add(Dense(64, activation='relu'))\n",
        "model.add(Dense(10,activation='softmax'))"
      ],
      "metadata": {
        "id": "AWfcPbkrP8mm"
      },
      "execution_count": 14,
      "outputs": []
    },
    {
      "cell_type": "code",
      "source": [
        "# We can see with same padding the output shape is same as that of image size and no information lost\n",
        "model.summary()"
      ],
      "metadata": {
        "colab": {
          "base_uri": "https://localhost:8080/"
        },
        "id": "psoOv1iAP8oy",
        "outputId": "35b18224-bf71-4a98-ceab-a196b3e78bfc"
      },
      "execution_count": 15,
      "outputs": [
        {
          "output_type": "stream",
          "name": "stdout",
          "text": [
            "Model: \"sequential_5\"\n",
            "_________________________________________________________________\n",
            " Layer (type)                Output Shape              Param #   \n",
            "=================================================================\n",
            " conv2d_20 (Conv2D)          (None, 28, 28, 24)        240       \n",
            "                                                                 \n",
            " conv2d_21 (Conv2D)          (None, 28, 28, 24)        5208      \n",
            "                                                                 \n",
            " conv2d_22 (Conv2D)          (None, 28, 28, 24)        5208      \n",
            "                                                                 \n",
            " conv2d_23 (Conv2D)          (None, 28, 28, 24)        5208      \n",
            "                                                                 \n",
            " flatten_3 (Flatten)         (None, 18816)             0         \n",
            "                                                                 \n",
            " dense_4 (Dense)             (None, 64)                1204288   \n",
            "                                                                 \n",
            " dense_5 (Dense)             (None, 10)                650       \n",
            "                                                                 \n",
            "=================================================================\n",
            "Total params: 1,220,802\n",
            "Trainable params: 1,220,802\n",
            "Non-trainable params: 0\n",
            "_________________________________________________________________\n"
          ]
        }
      ]
    },
    {
      "cell_type": "markdown",
      "source": [
        "Same Padding with strides (2,2)"
      ],
      "metadata": {
        "id": "xZ-m3fSQTLdf"
      }
    },
    {
      "cell_type": "code",
      "source": [
        "model = Sequential()\n",
        "\n",
        "#Convolution Layers\n",
        "model.add(Conv2D(24, kernel_size=(3,3), padding='same',strides=(2,2), activation='relu', input_shape=(28,28,1)))\n",
        "model.add(Conv2D(24, kernel_size=(3,3), padding='same',strides=(2,2), activation='relu'))\n",
        "model.add(Conv2D(24, kernel_size=(3,3), padding='same',strides=(2,2), activation='relu'))\n",
        "model.add(Conv2D(24, kernel_size=(3,3), padding='same',strides=(2,2), activation='relu'))\n",
        "\n",
        "# Flatten layer\n",
        "model.add(Flatten())\n",
        "\n",
        "# Fully connected network\n",
        "model.add(Dense(64, activation='relu'))\n",
        "model.add(Dense(10,activation='softmax'))"
      ],
      "metadata": {
        "id": "-McViSjiP8qy"
      },
      "execution_count": 16,
      "outputs": []
    },
    {
      "cell_type": "code",
      "source": [
        "# We can see the output shape decreased by half and due to that there is drastic change in no. of trainable parameters.\n",
        "model.summary()"
      ],
      "metadata": {
        "colab": {
          "base_uri": "https://localhost:8080/"
        },
        "id": "cgW-OdsaP8uM",
        "outputId": "00657635-af3d-4d72-8026-2b49707c231a"
      },
      "execution_count": 18,
      "outputs": [
        {
          "output_type": "stream",
          "name": "stdout",
          "text": [
            "Model: \"sequential_6\"\n",
            "_________________________________________________________________\n",
            " Layer (type)                Output Shape              Param #   \n",
            "=================================================================\n",
            " conv2d_24 (Conv2D)          (None, 14, 14, 24)        240       \n",
            "                                                                 \n",
            " conv2d_25 (Conv2D)          (None, 7, 7, 24)          5208      \n",
            "                                                                 \n",
            " conv2d_26 (Conv2D)          (None, 4, 4, 24)          5208      \n",
            "                                                                 \n",
            " conv2d_27 (Conv2D)          (None, 2, 2, 24)          5208      \n",
            "                                                                 \n",
            " flatten_4 (Flatten)         (None, 96)                0         \n",
            "                                                                 \n",
            " dense_6 (Dense)             (None, 64)                6208      \n",
            "                                                                 \n",
            " dense_7 (Dense)             (None, 10)                650       \n",
            "                                                                 \n",
            "=================================================================\n",
            "Total params: 22,722\n",
            "Trainable params: 22,722\n",
            "Non-trainable params: 0\n",
            "_________________________________________________________________\n"
          ]
        }
      ]
    },
    {
      "cell_type": "code",
      "source": [],
      "metadata": {
        "id": "E7H6c8_5OqfX"
      },
      "execution_count": null,
      "outputs": []
    }
  ]
}