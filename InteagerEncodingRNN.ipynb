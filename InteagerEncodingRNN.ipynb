{
  "nbformat": 4,
  "nbformat_minor": 0,
  "metadata": {
    "colab": {
      "provenance": [],
      "collapsed_sections": []
    },
    "kernelspec": {
      "name": "python3",
      "display_name": "Python 3"
    },
    "language_info": {
      "name": "python"
    }
  },
  "cells": [
    {
      "cell_type": "code",
      "execution_count": 2,
      "metadata": {
        "id": "LzhEr72nKjRO"
      },
      "outputs": [],
      "source": [
        "texts = ['hello there',\n",
        "         'How are you',\n",
        "         'Tell me about yourself',\n",
        "         'what is your favourite machine learning model',\n",
        "         'how do you rate youself in deep learning',\n",
        "         'good going',\n",
        "         'Differnce between ANN and CNN',\n",
        "         'what is RNN',\n",
        "         'Thank you']"
      ]
    },
    {
      "cell_type": "code",
      "source": [
        "# Tokenize the words\n",
        "from keras.preprocessing.text import Tokenizer\n",
        "tokenizer = Tokenizer(oov_token='unaware')  # out of vocabulary - which is not present in training data, new word gets replaced with unaware"
      ],
      "metadata": {
        "id": "0i2m6QdtThkE"
      },
      "execution_count": 3,
      "outputs": []
    },
    {
      "cell_type": "code",
      "source": [
        "tokenizer.fit_on_texts(texts)"
      ],
      "metadata": {
        "id": "lsNi6m4fThmN"
      },
      "execution_count": 4,
      "outputs": []
    },
    {
      "cell_type": "code",
      "source": [
        "tokenizer.word_index"
      ],
      "metadata": {
        "colab": {
          "base_uri": "https://localhost:8080/"
        },
        "id": "JRkSiiOSThn2",
        "outputId": "0de72bb0-e565-4387-f1f3-16bcae83ad96"
      },
      "execution_count": 6,
      "outputs": [
        {
          "output_type": "execute_result",
          "data": {
            "text/plain": [
              "{'unaware': 1,\n",
              " 'you': 2,\n",
              " 'how': 3,\n",
              " 'what': 4,\n",
              " 'is': 5,\n",
              " 'learning': 6,\n",
              " 'hello': 7,\n",
              " 'there': 8,\n",
              " 'are': 9,\n",
              " 'tell': 10,\n",
              " 'me': 11,\n",
              " 'about': 12,\n",
              " 'yourself': 13,\n",
              " 'your': 14,\n",
              " 'favourite': 15,\n",
              " 'machine': 16,\n",
              " 'model': 17,\n",
              " 'do': 18,\n",
              " 'rate': 19,\n",
              " 'youself': 20,\n",
              " 'in': 21,\n",
              " 'deep': 22,\n",
              " 'good': 23,\n",
              " 'going': 24,\n",
              " 'differnce': 25,\n",
              " 'between': 26,\n",
              " 'ann': 27,\n",
              " 'and': 28,\n",
              " 'cnn': 29,\n",
              " 'rnn': 30,\n",
              " 'thank': 31}"
            ]
          },
          "metadata": {},
          "execution_count": 6
        }
      ]
    },
    {
      "cell_type": "code",
      "source": [
        "tokenizer.word_counts"
      ],
      "metadata": {
        "colab": {
          "base_uri": "https://localhost:8080/"
        },
        "id": "V6flwwT3feD4",
        "outputId": "506f8ad3-4f5d-4ad8-eef4-2fda20f2440a"
      },
      "execution_count": 8,
      "outputs": [
        {
          "output_type": "execute_result",
          "data": {
            "text/plain": [
              "OrderedDict([('hello', 1),\n",
              "             ('there', 1),\n",
              "             ('how', 2),\n",
              "             ('are', 1),\n",
              "             ('you', 3),\n",
              "             ('tell', 1),\n",
              "             ('me', 1),\n",
              "             ('about', 1),\n",
              "             ('yourself', 1),\n",
              "             ('what', 2),\n",
              "             ('is', 2),\n",
              "             ('your', 1),\n",
              "             ('favourite', 1),\n",
              "             ('machine', 1),\n",
              "             ('learning', 2),\n",
              "             ('model', 1),\n",
              "             ('do', 1),\n",
              "             ('rate', 1),\n",
              "             ('youself', 1),\n",
              "             ('in', 1),\n",
              "             ('deep', 1),\n",
              "             ('good', 1),\n",
              "             ('going', 1),\n",
              "             ('differnce', 1),\n",
              "             ('between', 1),\n",
              "             ('ann', 1),\n",
              "             ('and', 1),\n",
              "             ('cnn', 1),\n",
              "             ('rnn', 1),\n",
              "             ('thank', 1)])"
            ]
          },
          "metadata": {},
          "execution_count": 8
        }
      ]
    },
    {
      "cell_type": "code",
      "source": [
        "text_sequence = tokenizer.texts_to_sequences(texts)\n",
        "text_sequence"
      ],
      "metadata": {
        "colab": {
          "base_uri": "https://localhost:8080/"
        },
        "id": "F7e0YKlsfeGF",
        "outputId": "35e05b5c-ec95-494a-90a0-8aef8a23c82b"
      },
      "execution_count": 9,
      "outputs": [
        {
          "output_type": "execute_result",
          "data": {
            "text/plain": [
              "[[7, 8],\n",
              " [3, 9, 2],\n",
              " [10, 11, 12, 13],\n",
              " [4, 5, 14, 15, 16, 6, 17],\n",
              " [3, 18, 2, 19, 20, 21, 22, 6],\n",
              " [23, 24],\n",
              " [25, 26, 27, 28, 29],\n",
              " [4, 5, 30],\n",
              " [31, 2]]"
            ]
          },
          "metadata": {},
          "execution_count": 9
        }
      ]
    },
    {
      "cell_type": "code",
      "source": [
        "# Zero padding to make size of all the words equal\n",
        "\n",
        "from keras.utils import pad_sequences\n",
        "text_sequence = pad_sequences(text_sequence, padding='post')"
      ],
      "metadata": {
        "id": "P-sQCPclfeHy"
      },
      "execution_count": 10,
      "outputs": []
    },
    {
      "cell_type": "code",
      "source": [
        "text_sequence"
      ],
      "metadata": {
        "colab": {
          "base_uri": "https://localhost:8080/"
        },
        "id": "wddjICLTfeK-",
        "outputId": "2a61b9bf-60ef-4ed3-d2d0-49949f4c2643"
      },
      "execution_count": 11,
      "outputs": [
        {
          "output_type": "execute_result",
          "data": {
            "text/plain": [
              "array([[ 7,  8,  0,  0,  0,  0,  0,  0],\n",
              "       [ 3,  9,  2,  0,  0,  0,  0,  0],\n",
              "       [10, 11, 12, 13,  0,  0,  0,  0],\n",
              "       [ 4,  5, 14, 15, 16,  6, 17,  0],\n",
              "       [ 3, 18,  2, 19, 20, 21, 22,  6],\n",
              "       [23, 24,  0,  0,  0,  0,  0,  0],\n",
              "       [25, 26, 27, 28, 29,  0,  0,  0],\n",
              "       [ 4,  5, 30,  0,  0,  0,  0,  0],\n",
              "       [31,  2,  0,  0,  0,  0,  0,  0]], dtype=int32)"
            ]
          },
          "metadata": {},
          "execution_count": 11
        }
      ]
    },
    {
      "cell_type": "code",
      "source": [
        "text_sequence.size"
      ],
      "metadata": {
        "colab": {
          "base_uri": "https://localhost:8080/"
        },
        "id": "DA21FmnwThrQ",
        "outputId": "a995fb7a-e057-4119-abd1-670e26c74851"
      },
      "execution_count": 12,
      "outputs": [
        {
          "output_type": "execute_result",
          "data": {
            "text/plain": [
              "72"
            ]
          },
          "metadata": {},
          "execution_count": 12
        }
      ]
    },
    {
      "cell_type": "code",
      "source": [],
      "metadata": {
        "id": "I43c8NpRhGVN"
      },
      "execution_count": null,
      "outputs": []
    },
    {
      "cell_type": "code",
      "source": [],
      "metadata": {
        "id": "Io20XlD5hGXR"
      },
      "execution_count": null,
      "outputs": []
    },
    {
      "cell_type": "code",
      "source": [],
      "metadata": {
        "id": "wOCNo7kphGY7"
      },
      "execution_count": null,
      "outputs": []
    },
    {
      "cell_type": "code",
      "source": [],
      "metadata": {
        "id": "gIRqwSznhGa3"
      },
      "execution_count": null,
      "outputs": []
    },
    {
      "cell_type": "code",
      "source": [],
      "metadata": {
        "id": "qzFUt-73hGeV"
      },
      "execution_count": null,
      "outputs": []
    }
  ]
}