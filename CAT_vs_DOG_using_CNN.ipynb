{
  "nbformat": 4,
  "nbformat_minor": 0,
  "metadata": {
    "colab": {
      "provenance": [],
      "collapsed_sections": []
    },
    "kernelspec": {
      "name": "python3",
      "display_name": "Python 3"
    },
    "language_info": {
      "name": "python"
    },
    "accelerator": "GPU"
  },
  "cells": [
    {
      "cell_type": "code",
      "execution_count": 4,
      "metadata": {
        "id": "HXElFiQBLn7z"
      },
      "outputs": [],
      "source": [
        "# Extarct dataset from Kaggle\n",
        "!mkdir -p ~/.kaggle\n",
        "!cp kaggle.json ~/.kaggle/"
      ]
    },
    {
      "cell_type": "code",
      "source": [
        "!kaggle datasets download -d salader/dogs-vs-cats"
      ],
      "metadata": {
        "colab": {
          "base_uri": "https://localhost:8080/"
        },
        "id": "-lyLDm6OMa89",
        "outputId": "5e6d56d4-7975-4163-c2c8-1924da8a42ee"
      },
      "execution_count": 5,
      "outputs": [
        {
          "output_type": "stream",
          "name": "stdout",
          "text": [
            "Warning: Your Kaggle API key is readable by other users on this system! To fix this, you can run 'chmod 600 /root/.kaggle/kaggle.json'\n",
            "Downloading dogs-vs-cats.zip to /content\n",
            " 98% 1.05G/1.06G [00:05<00:00, 123MB/s]\n",
            "100% 1.06G/1.06G [00:05<00:00, 202MB/s]\n"
          ]
        }
      ]
    },
    {
      "cell_type": "code",
      "source": [
        "# Unzip the dataset\n",
        "\n",
        "import zipfile\n",
        "zip = zipfile.ZipFile('/content/dogs-vs-cats.zip', 'r')\n",
        "zip.extractall('/content')\n",
        "zip.close()"
      ],
      "metadata": {
        "id": "Y3_WxpqUMbAb"
      },
      "execution_count": 6,
      "outputs": []
    },
    {
      "cell_type": "code",
      "source": [
        "import tensorflow\n",
        "from tensorflow import keras\n",
        "from keras import Sequential\n",
        "from keras.layers import Dense, Conv2D, MaxPooling2D, Flatten"
      ],
      "metadata": {
        "id": "qoYQ7Vw1ND5I"
      },
      "execution_count": 7,
      "outputs": []
    },
    {
      "cell_type": "code",
      "source": [
        "# will use generators to handle large dataset\n",
        "\n",
        "train_data = keras.utils.image_dataset_from_directory(\n",
        "    directory = '/content/train',\n",
        "    labels = 'inferred',\n",
        "    label_mode = 'int',\n",
        "    batch_size = 32,\n",
        "    image_size = (256,256)\n",
        ")\n",
        "\n",
        "validation_data = keras.utils.image_dataset_from_directory(\n",
        "    directory = '/content/test',\n",
        "    labels = 'inferred',\n",
        "    label_mode = 'int',\n",
        "    batch_size = 32,\n",
        "    image_size = (256,256)\n",
        ")\n"
      ],
      "metadata": {
        "colab": {
          "base_uri": "https://localhost:8080/"
        },
        "id": "OEZLt8Q4ND7s",
        "outputId": "ba7dbe94-89b7-4898-d5af-6f7b0bd2e16d"
      },
      "execution_count": 8,
      "outputs": [
        {
          "output_type": "stream",
          "name": "stdout",
          "text": [
            "Found 20000 files belonging to 2 classes.\n",
            "Found 5000 files belonging to 2 classes.\n"
          ]
        }
      ]
    },
    {
      "cell_type": "code",
      "source": [
        "# Normalize the values from 0 to 1 of image which is currently 0 to 255.\n",
        "\n",
        "def map_image(image, label):\n",
        "  image = tensorflow.cast(image/255, tensorflow.float32)\n",
        "  return image, label\n",
        "\n",
        "train_data = train_data.map(map_image)\n",
        "validation_data  = validation_data.map(map_image)"
      ],
      "metadata": {
        "id": "44gsAbyqND83"
      },
      "execution_count": 9,
      "outputs": []
    },
    {
      "cell_type": "code",
      "source": [
        "type(train_data)"
      ],
      "metadata": {
        "colab": {
          "base_uri": "https://localhost:8080/"
        },
        "id": "NM4q3bCIOyI1",
        "outputId": "60591274-5089-4c75-fec4-38d5bac67495"
      },
      "execution_count": 10,
      "outputs": [
        {
          "output_type": "execute_result",
          "data": {
            "text/plain": [
              "tensorflow.python.data.ops.dataset_ops.MapDataset"
            ]
          },
          "metadata": {},
          "execution_count": 10
        }
      ]
    },
    {
      "cell_type": "code",
      "source": [
        "# shape(32,256,256,3) - 32 is batch size, 256*256 image and 3 is for RGB channel.\n",
        "for i in train_data:\n",
        "  print(i)\n",
        "  break"
      ],
      "metadata": {
        "colab": {
          "base_uri": "https://localhost:8080/"
        },
        "id": "7XhZ3LioOyNE",
        "outputId": "9fcef54e-e54d-49bd-df3f-ad9217b1508c"
      },
      "execution_count": 11,
      "outputs": [
        {
          "output_type": "stream",
          "name": "stdout",
          "text": [
            "(<tf.Tensor: shape=(32, 256, 256, 3), dtype=float32, numpy=\n",
            "array([[[[0.94509804, 0.9647059 , 0.9764706 ],\n",
            "         [0.94509804, 0.9647059 , 0.9764706 ],\n",
            "         [0.94509804, 0.9647059 , 0.9764706 ],\n",
            "         ...,\n",
            "         [0.8726226 , 0.9118383 , 0.9471324 ],\n",
            "         [0.86832875, 0.90754443, 0.94283855],\n",
            "         [0.8666667 , 0.90588236, 0.9411765 ]],\n",
            "\n",
            "        [[0.9478324 , 0.96744025, 0.97920495],\n",
            "         [0.9478324 , 0.96744025, 0.97920495],\n",
            "         [0.9478324 , 0.96744025, 0.97920495],\n",
            "         ...,\n",
            "         [0.8755299 , 0.91474557, 0.9500397 ],\n",
            "         [0.8710631 , 0.9102788 , 0.9455729 ],\n",
            "         [0.86940104, 0.9086167 , 0.94391084]],\n",
            "\n",
            "        [[0.94965535, 0.9692632 , 0.9810279 ],\n",
            "         [0.94965535, 0.9692632 , 0.9810279 ],\n",
            "         [0.94965535, 0.9692632 , 0.9810279 ],\n",
            "         ...,\n",
            "         [0.88116574, 0.9197457 , 0.9550398 ],\n",
            "         [0.8774433 , 0.9160233 , 0.9513174 ],\n",
            "         [0.87578124, 0.91436124, 0.94965535]],\n",
            "\n",
            "        ...,\n",
            "\n",
            "        [[0.9984405 , 0.99059737, 0.99451894],\n",
            "         [0.99580896, 0.9879658 , 0.9918874 ],\n",
            "         [0.99567986, 0.9878367 , 0.9917583 ],\n",
            "         ...,\n",
            "         [0.99222547, 0.99222547, 0.99222547],\n",
            "         [0.9486719 , 0.9373744 , 0.9509314 ],\n",
            "         [0.89862597, 0.8790181 , 0.90254754]],\n",
            "\n",
            "        [[0.9814262 , 0.97358304, 0.9775046 ],\n",
            "         [0.98802614, 0.980183  , 0.9841046 ],\n",
            "         [0.9953341 , 0.98749095, 0.9914125 ],\n",
            "         ...,\n",
            "         [0.9958271 , 0.9958271 , 0.9958271 ],\n",
            "         [0.9897182 , 0.9791048 , 0.99129367],\n",
            "         [0.96401227, 0.94440436, 0.96793383]],\n",
            "\n",
            "        [[0.95686674, 0.9490236 , 0.9529452 ],\n",
            "         [0.97596174, 0.9681186 , 0.9720402 ],\n",
            "         [0.9917326 , 0.98388946, 0.987811  ],\n",
            "         ...,\n",
            "         [0.9983056 , 0.9983056 , 0.9983056 ],\n",
            "         [0.9996137 , 0.9905757 , 0.9996137 ],\n",
            "         [0.9880281 , 0.96842027, 0.9919497 ]]],\n",
            "\n",
            "\n",
            "       [[[0.21568628, 0.21568628, 0.22352941],\n",
            "         [0.21242341, 0.21242341, 0.22026655],\n",
            "         [0.21176471, 0.21176471, 0.21960784],\n",
            "         ...,\n",
            "         [0.20784314, 0.20784314, 0.20784314],\n",
            "         [0.20784314, 0.20784314, 0.20784314],\n",
            "         [0.20784314, 0.20784314, 0.20784314]],\n",
            "\n",
            "        [[0.21568628, 0.21568628, 0.22352941],\n",
            "         [0.21242341, 0.21242341, 0.22026655],\n",
            "         [0.21176471, 0.21176471, 0.21960784],\n",
            "         ...,\n",
            "         [0.20784314, 0.20784314, 0.20784314],\n",
            "         [0.20784314, 0.20784314, 0.20784314],\n",
            "         [0.20784314, 0.20784314, 0.20784314]],\n",
            "\n",
            "        [[0.21568628, 0.21568628, 0.22352941],\n",
            "         [0.21242341, 0.21242341, 0.22026655],\n",
            "         [0.21176471, 0.21176471, 0.21960784],\n",
            "         ...,\n",
            "         [0.20784314, 0.20784314, 0.20784314],\n",
            "         [0.20784314, 0.20784314, 0.20784314],\n",
            "         [0.20784314, 0.20784314, 0.20784314]],\n",
            "\n",
            "        ...,\n",
            "\n",
            "        [[0.93579215, 0.8350337 , 0.7050208 ],\n",
            "         [0.924759  , 0.83039623, 0.70714617],\n",
            "         [0.93587536, 0.8522092 , 0.73535025],\n",
            "         ...,\n",
            "         [0.6261489 , 0.6379136 , 0.6575214 ],\n",
            "         [0.6178768 , 0.62964153, 0.6492494 ],\n",
            "         [0.6072497 , 0.6190144 , 0.6386222 ]],\n",
            "\n",
            "        [[0.93029356, 0.81960785, 0.6931043 ],\n",
            "         [0.92192674, 0.82264763, 0.7000297 ],\n",
            "         [0.9269031 , 0.83910024, 0.72083277],\n",
            "         ...,\n",
            "         [0.6506888 , 0.6546104 , 0.67421824],\n",
            "         [0.6426691 , 0.64659065, 0.6661985 ],\n",
            "         [0.63353246, 0.63745403, 0.6570619 ]],\n",
            "\n",
            "        [[0.9387408 , 0.8250153 , 0.6995251 ],\n",
            "         [0.9322151 , 0.8250153 , 0.7060509 ],\n",
            "         [0.9206953 , 0.8241726 , 0.70955867],\n",
            "         ...,\n",
            "         [0.65882355, 0.6627451 , 0.68235296],\n",
            "         [0.65740114, 0.6613227 , 0.68093055],\n",
            "         [0.65550774, 0.6594293 , 0.67903715]]],\n",
            "\n",
            "\n",
            "       [[[0.03716299, 0.04108456, 0.02147672],\n",
            "         [0.04135503, 0.0452766 , 0.02566875],\n",
            "         [0.04194096, 0.04586253, 0.02625469],\n",
            "         ...,\n",
            "         [0.27450982, 0.29803923, 0.2509804 ],\n",
            "         [0.27485207, 0.2944599 , 0.26700893],\n",
            "         [0.26853552, 0.2881434 , 0.2606924 ]],\n",
            "\n",
            "        [[0.03841385, 0.04233542, 0.02272758],\n",
            "         [0.04416408, 0.04808565, 0.02847781],\n",
            "         [0.04461215, 0.04853372, 0.02892588],\n",
            "         ...,\n",
            "         [0.27689952, 0.30042893, 0.2533701 ],\n",
            "         [0.27619484, 0.29580268, 0.2683517 ],\n",
            "         [0.26853552, 0.2881434 , 0.2606924 ]],\n",
            "\n",
            "        [[0.04117791, 0.04497693, 0.02543036],\n",
            "         [0.04491852, 0.04871754, 0.02917098],\n",
            "         [0.04564233, 0.04944135, 0.02989478],\n",
            "         ...,\n",
            "         [0.28241423, 0.30594364, 0.25888482],\n",
            "         [0.2784577 , 0.29806554, 0.27061456],\n",
            "         [0.2724571 , 0.29206496, 0.26461396]],\n",
            "\n",
            "        ...,\n",
            "\n",
            "        [[0.14720914, 0.18250325, 0.29622874],\n",
            "         [0.1452206 , 0.18051471, 0.2942402 ],\n",
            "         [0.14513585, 0.18042998, 0.29415548],\n",
            "         ...,\n",
            "         [0.5337623 , 0.61311275, 0.6342218 ],\n",
            "         [0.5555803 , 0.622247  , 0.64969796],\n",
            "         [0.57319385, 0.6398605 , 0.6673115 ]],\n",
            "\n",
            "        [[0.13211311, 0.16740723, 0.28113273],\n",
            "         [0.12562759, 0.16092171, 0.2746472 ],\n",
            "         [0.13928558, 0.1745797 , 0.2883052 ],\n",
            "         ...,\n",
            "         [0.52192813, 0.6012786 , 0.6223877 ],\n",
            "         [0.540961  , 0.6076277 , 0.6350787 ],\n",
            "         [0.53111166, 0.5977783 , 0.6252293 ]],\n",
            "\n",
            "        [[0.11755515, 0.15284927, 0.26657474],\n",
            "         [0.11084559, 0.14613971, 0.2598652 ],\n",
            "         [0.13440707, 0.16970119, 0.28342667],\n",
            "         ...,\n",
            "         [0.470762  , 0.5501125 , 0.5712216 ],\n",
            "         [0.5401856 , 0.60685223, 0.6343032 ],\n",
            "         [0.50588906, 0.5725557 , 0.6000067 ]]],\n",
            "\n",
            "\n",
            "       ...,\n",
            "\n",
            "\n",
            "       [[[0.3297321 , 0.26306543, 0.22384974],\n",
            "         [0.29904872, 0.23675194, 0.20375511],\n",
            "         [0.3654531 , 0.3137689 , 0.28984717],\n",
            "         ...,\n",
            "         [0.32525447, 0.34094074, 0.384078  ],\n",
            "         [0.39872804, 0.41441432, 0.45755157],\n",
            "         [0.36270544, 0.3783917 , 0.42152897]],\n",
            "\n",
            "        [[0.3527732 , 0.286539  , 0.24602583],\n",
            "         [0.30649206, 0.24623622, 0.20915748],\n",
            "         [0.34181988, 0.2904795 , 0.26587012],\n",
            "         ...,\n",
            "         [0.307741  , 0.32342726, 0.3665645 ],\n",
            "         [0.3914277 , 0.40711397, 0.45025122],\n",
            "         [0.36399305, 0.37967932, 0.42281657]],\n",
            "\n",
            "        [[0.3532637 , 0.28980628, 0.24096285],\n",
            "         [0.31330675, 0.25305092, 0.2159722 ],\n",
            "         [0.3243728 , 0.27303243, 0.24842305],\n",
            "         ...,\n",
            "         [0.26192296, 0.27760923, 0.32074648],\n",
            "         [0.34081647, 0.35650277, 0.39964002],\n",
            "         [0.32263327, 0.33831954, 0.3814568 ]],\n",
            "\n",
            "        ...,\n",
            "\n",
            "        [[0.2192802 , 0.17277114, 0.20717849],\n",
            "         [0.26548204, 0.22837776, 0.26834664],\n",
            "         [0.258781  , 0.24105479, 0.28579196],\n",
            "         ...,\n",
            "         [0.24965881, 0.25966185, 0.2792697 ],\n",
            "         [0.2962878 , 0.30629086, 0.3258987 ],\n",
            "         [0.3360243 , 0.3460274 , 0.36563525]],\n",
            "\n",
            "        [[0.22237694, 0.19414063, 0.22159977],\n",
            "         [0.26402572, 0.24604931, 0.2772871 ],\n",
            "         [0.26000053, 0.25107485, 0.29358914],\n",
            "         ...,\n",
            "         [0.3264017 , 0.35419735, 0.36733052],\n",
            "         [0.31910545, 0.3422886 , 0.35695925],\n",
            "         [0.32465073, 0.34505054, 0.36064902]],\n",
            "\n",
            "        [[0.2177034 , 0.19984818, 0.21671127],\n",
            "         [0.25221354, 0.24607486, 0.2722697 ],\n",
            "         [0.24526569, 0.24455337, 0.28322527],\n",
            "         ...,\n",
            "         [0.37192607, 0.41005328, 0.41843256],\n",
            "         [0.333846  , 0.36833945, 0.3784957 ],\n",
            "         [0.3216488 , 0.3539495 , 0.36517805]]],\n",
            "\n",
            "\n",
            "       [[[0.27264094, 0.22166054, 0.19813113],\n",
            "         [0.2671821 , 0.21620172, 0.19267231],\n",
            "         [0.26701266, 0.21603227, 0.1846597 ],\n",
            "         ...,\n",
            "         [0.4636489 , 0.57345283, 0.62051165],\n",
            "         [0.45004058, 0.5598445 , 0.6069033 ],\n",
            "         [0.4305129 , 0.5403168 , 0.58737564]],\n",
            "\n",
            "        [[0.27393308, 0.2229527 , 0.19942328],\n",
            "         [0.2689032 , 0.21792279, 0.19439338],\n",
            "         [0.26816788, 0.2171875 , 0.18581495],\n",
            "         ...,\n",
            "         [0.48085913, 0.5906631 , 0.6377219 ],\n",
            "         [0.4351869 , 0.54499084, 0.59204966],\n",
            "         [0.4298146 , 0.5396185 , 0.5866773 ]],\n",
            "\n",
            "        [[0.2768472 , 0.22586682, 0.20233741],\n",
            "         [0.27092895, 0.21994856, 0.19641915],\n",
            "         [0.27081695, 0.21983655, 0.188464  ],\n",
            "         ...,\n",
            "         [0.4458629 , 0.5556668 , 0.6027256 ],\n",
            "         [0.4320772 , 0.54188114, 0.58893996],\n",
            "         [0.43973652, 0.54954046, 0.5965993 ]],\n",
            "\n",
            "        ...,\n",
            "\n",
            "        [[0.6544334 , 0.52894324, 0.430904  ],\n",
            "         [0.66106004, 0.5394914 , 0.4296875 ],\n",
            "         [0.6526216 , 0.531053  , 0.41732752],\n",
            "         ...,\n",
            "         [0.6004115 , 0.4945291 , 0.3808036 ],\n",
            "         [0.59891236, 0.49303   , 0.38714767],\n",
            "         [0.6065717 , 0.5006893 , 0.39480698]],\n",
            "\n",
            "        [[0.6553516 , 0.5298614 , 0.43182218],\n",
            "         [0.65830356, 0.5367349 , 0.426931  ],\n",
            "         [0.65294486, 0.53137624, 0.41765076],\n",
            "         ...,\n",
            "         [0.5930226 , 0.48714024, 0.37341475],\n",
            "         [0.58262867, 0.47674632, 0.37086397],\n",
            "         [0.590288  , 0.48440564, 0.3785233 ]],\n",
            "\n",
            "        [[0.65835047, 0.5328603 , 0.43482104],\n",
            "         [0.65713847, 0.53556985, 0.42576593],\n",
            "         [0.6539828 , 0.5324142 , 0.4186887 ],\n",
            "         ...,\n",
            "         [0.5780268 , 0.4721444 , 0.3584189 ],\n",
            "         [0.59469974, 0.4888174 , 0.38293505],\n",
            "         [0.60235906, 0.4964767 , 0.39059436]]],\n",
            "\n",
            "\n",
            "       [[[0.43137255, 0.3882353 , 0.16862746],\n",
            "         [0.43137255, 0.3882353 , 0.16862746],\n",
            "         [0.43137255, 0.3882353 , 0.1764706 ],\n",
            "         ...,\n",
            "         [0.45490196, 0.41568628, 0.31764707],\n",
            "         [0.45490196, 0.41568628, 0.31764707],\n",
            "         [0.45490196, 0.41568628, 0.31764707]],\n",
            "\n",
            "        [[0.43137255, 0.3882353 , 0.16862746],\n",
            "         [0.43137255, 0.3882353 , 0.16862746],\n",
            "         [0.43137255, 0.3882353 , 0.1764706 ],\n",
            "         ...,\n",
            "         [0.45882353, 0.41960785, 0.32156864],\n",
            "         [0.45882353, 0.41960785, 0.32156864],\n",
            "         [0.45882353, 0.41960785, 0.32156864]],\n",
            "\n",
            "        [[0.43137255, 0.3882353 , 0.16862746],\n",
            "         [0.43137255, 0.3882353 , 0.16862746],\n",
            "         [0.43137255, 0.3882353 , 0.1764706 ],\n",
            "         ...,\n",
            "         [0.4627451 , 0.42352942, 0.3254902 ],\n",
            "         [0.4627451 , 0.42352942, 0.3254902 ],\n",
            "         [0.4627451 , 0.42352942, 0.3254902 ]],\n",
            "\n",
            "        ...,\n",
            "\n",
            "        [[0.11352635, 0.0939185 , 0.10960478],\n",
            "         [0.13835874, 0.1187509 , 0.13443717],\n",
            "         [0.14081798, 0.12121014, 0.13689642],\n",
            "         ...,\n",
            "         [0.46666667, 0.43529412, 0.29411766],\n",
            "         [0.46666667, 0.43529412, 0.29185814],\n",
            "         [0.46666667, 0.43529412, 0.2901961 ]],\n",
            "\n",
            "        [[0.12235735, 0.10274951, 0.11843579],\n",
            "         [0.10497855, 0.08537071, 0.10105699],\n",
            "         [0.12548344, 0.10587559, 0.12156186],\n",
            "         ...,\n",
            "         [0.46666667, 0.43529412, 0.29411766],\n",
            "         [0.46892616, 0.4375536 , 0.29637715],\n",
            "         [0.4726486 , 0.44127604, 0.30009958]],\n",
            "\n",
            "        [[0.11236207, 0.09275423, 0.1084405 ],\n",
            "         [0.11507335, 0.0954655 , 0.11115178],\n",
            "         [0.13870281, 0.11909497, 0.13478124],\n",
            "         ...,\n",
            "         [0.46666667, 0.43529412, 0.29411766],\n",
            "         [0.46892616, 0.43529412, 0.30089614],\n",
            "         [0.4726486 , 0.43735448, 0.30794272]]]], dtype=float32)>, <tf.Tensor: shape=(32,), dtype=int32, numpy=\n",
            "array([0, 0, 1, 1, 0, 0, 0, 1, 0, 0, 0, 1, 1, 0, 1, 0, 0, 0, 0, 0, 0, 1,\n",
            "       0, 1, 1, 1, 0, 1, 1, 0, 1, 0], dtype=int32)>)\n"
          ]
        }
      ]
    },
    {
      "cell_type": "markdown",
      "source": [
        "CNN Model"
      ],
      "metadata": {
        "id": "TM6vReiuSC1h"
      }
    },
    {
      "cell_type": "code",
      "source": [
        "model = Sequential()\n",
        "\n",
        "model.add(Conv2D(32, kernel_size=(3,3), padding='valid', activation='relu', input_shape=(256,256,3)))\n",
        "model.add(MaxPooling2D(pool_size=(2,2), strides=2, padding='valid'))\n",
        "model.add(Conv2D(64, kernel_size=(3,3), padding='valid', activation='relu'))\n",
        "model.add(MaxPooling2D(pool_size=(2,2), strides=2, padding='valid'))\n",
        "model.add(Conv2D(128, kernel_size=(3,3), padding='valid', activation='relu'))\n",
        "model.add(MaxPooling2D(pool_size=(2,2), strides=2, padding='valid'))\n",
        "\n",
        "model.add(Flatten())\n",
        "\n",
        "model.add(Dense(128, activation='relu'))\n",
        "model.add(Dense(64, activation='relu'))\n",
        "model.add(Dense(1, activation='sigmoid'))"
      ],
      "metadata": {
        "id": "ZAJNn5SYOyOz"
      },
      "execution_count": 12,
      "outputs": []
    },
    {
      "cell_type": "code",
      "source": [
        "model.summary()"
      ],
      "metadata": {
        "colab": {
          "base_uri": "https://localhost:8080/"
        },
        "id": "4MNhfq8iOyQh",
        "outputId": "73e36813-df56-422b-9dc8-3be34a13bf29"
      },
      "execution_count": 13,
      "outputs": [
        {
          "output_type": "stream",
          "name": "stdout",
          "text": [
            "Model: \"sequential\"\n",
            "_________________________________________________________________\n",
            " Layer (type)                Output Shape              Param #   \n",
            "=================================================================\n",
            " conv2d (Conv2D)             (None, 254, 254, 32)      896       \n",
            "                                                                 \n",
            " max_pooling2d (MaxPooling2D  (None, 127, 127, 32)     0         \n",
            " )                                                               \n",
            "                                                                 \n",
            " conv2d_1 (Conv2D)           (None, 125, 125, 64)      18496     \n",
            "                                                                 \n",
            " max_pooling2d_1 (MaxPooling  (None, 62, 62, 64)       0         \n",
            " 2D)                                                             \n",
            "                                                                 \n",
            " conv2d_2 (Conv2D)           (None, 60, 60, 128)       73856     \n",
            "                                                                 \n",
            " max_pooling2d_2 (MaxPooling  (None, 30, 30, 128)      0         \n",
            " 2D)                                                             \n",
            "                                                                 \n",
            " flatten (Flatten)           (None, 115200)            0         \n",
            "                                                                 \n",
            " dense (Dense)               (None, 128)               14745728  \n",
            "                                                                 \n",
            " dense_1 (Dense)             (None, 64)                8256      \n",
            "                                                                 \n",
            " dense_2 (Dense)             (None, 1)                 65        \n",
            "                                                                 \n",
            "=================================================================\n",
            "Total params: 14,847,297\n",
            "Trainable params: 14,847,297\n",
            "Non-trainable params: 0\n",
            "_________________________________________________________________\n"
          ]
        }
      ]
    },
    {
      "cell_type": "code",
      "source": [
        "model.compile(optimizer='Adam', loss='binary_crossentropy', metrics=['accuracy'])"
      ],
      "metadata": {
        "id": "rk3zqBpJOySf"
      },
      "execution_count": 14,
      "outputs": []
    },
    {
      "cell_type": "code",
      "source": [
        "logs = model.fit(train_data, epochs=20, validation_data = validation_data)"
      ],
      "metadata": {
        "colab": {
          "base_uri": "https://localhost:8080/"
        },
        "id": "4CZaYdO9OyV6",
        "outputId": "d2a7f839-e0e0-4e89-a852-cc486662ed98"
      },
      "execution_count": 15,
      "outputs": [
        {
          "output_type": "stream",
          "name": "stdout",
          "text": [
            "Epoch 1/20\n",
            "625/625 [==============================] - 66s 90ms/step - loss: 0.6245 - accuracy: 0.6399 - val_loss: 0.5326 - val_accuracy: 0.7378\n",
            "Epoch 2/20\n",
            "625/625 [==============================] - 59s 94ms/step - loss: 0.5013 - accuracy: 0.7527 - val_loss: 0.4853 - val_accuracy: 0.7664\n",
            "Epoch 3/20\n",
            "625/625 [==============================] - 56s 90ms/step - loss: 0.4003 - accuracy: 0.8159 - val_loss: 0.5046 - val_accuracy: 0.7732\n",
            "Epoch 4/20\n",
            "625/625 [==============================] - 57s 90ms/step - loss: 0.2730 - accuracy: 0.8830 - val_loss: 0.6882 - val_accuracy: 0.7878\n",
            "Epoch 5/20\n",
            "625/625 [==============================] - 58s 92ms/step - loss: 0.1551 - accuracy: 0.9409 - val_loss: 0.8100 - val_accuracy: 0.7732\n",
            "Epoch 6/20\n",
            "625/625 [==============================] - 57s 90ms/step - loss: 0.0843 - accuracy: 0.9690 - val_loss: 1.1609 - val_accuracy: 0.7674\n",
            "Epoch 7/20\n",
            "625/625 [==============================] - 75s 119ms/step - loss: 0.0635 - accuracy: 0.9786 - val_loss: 1.0510 - val_accuracy: 0.7790\n",
            "Epoch 8/20\n",
            "625/625 [==============================] - 67s 106ms/step - loss: 0.0535 - accuracy: 0.9826 - val_loss: 1.2000 - val_accuracy: 0.7774\n",
            "Epoch 9/20\n",
            "625/625 [==============================] - 57s 90ms/step - loss: 0.0364 - accuracy: 0.9893 - val_loss: 1.3237 - val_accuracy: 0.7692\n",
            "Epoch 10/20\n",
            "625/625 [==============================] - 57s 91ms/step - loss: 0.0333 - accuracy: 0.9899 - val_loss: 1.2486 - val_accuracy: 0.7758\n",
            "Epoch 11/20\n",
            "625/625 [==============================] - 57s 91ms/step - loss: 0.0206 - accuracy: 0.9933 - val_loss: 1.4589 - val_accuracy: 0.7746\n",
            "Epoch 12/20\n",
            "625/625 [==============================] - 56s 90ms/step - loss: 0.0239 - accuracy: 0.9924 - val_loss: 1.4926 - val_accuracy: 0.7662\n",
            "Epoch 13/20\n",
            "625/625 [==============================] - 56s 90ms/step - loss: 0.0214 - accuracy: 0.9928 - val_loss: 1.5465 - val_accuracy: 0.7696\n",
            "Epoch 14/20\n",
            "625/625 [==============================] - 57s 90ms/step - loss: 0.0228 - accuracy: 0.9940 - val_loss: 1.2990 - val_accuracy: 0.7886\n",
            "Epoch 15/20\n",
            "625/625 [==============================] - 56s 89ms/step - loss: 0.0183 - accuracy: 0.9944 - val_loss: 1.3800 - val_accuracy: 0.7686\n",
            "Epoch 16/20\n",
            "625/625 [==============================] - 56s 89ms/step - loss: 0.0150 - accuracy: 0.9952 - val_loss: 1.4981 - val_accuracy: 0.7762\n",
            "Epoch 17/20\n",
            "625/625 [==============================] - 56s 89ms/step - loss: 0.0189 - accuracy: 0.9938 - val_loss: 1.5569 - val_accuracy: 0.7716\n",
            "Epoch 18/20\n",
            "625/625 [==============================] - 56s 89ms/step - loss: 0.0180 - accuracy: 0.9947 - val_loss: 1.5275 - val_accuracy: 0.7898\n",
            "Epoch 19/20\n",
            "625/625 [==============================] - 56s 89ms/step - loss: 0.0167 - accuracy: 0.9956 - val_loss: 1.8901 - val_accuracy: 0.7648\n",
            "Epoch 20/20\n",
            "625/625 [==============================] - 58s 93ms/step - loss: 0.0107 - accuracy: 0.9973 - val_loss: 1.6565 - val_accuracy: 0.7834\n"
          ]
        }
      ]
    },
    {
      "cell_type": "code",
      "source": [
        "# Plot loss and accuracy graphs\n",
        "\n",
        "import matplotlib.pyplot as plt\n",
        "\n",
        "plt.plot(logs.history['accuracy'], color='red', label='training-accuracy')\n",
        "plt.plot(logs.history['val_accuracy'], color='green', label='validation-accuracy')\n",
        "plt.legend()\n",
        "plt.show()"
      ],
      "metadata": {
        "colab": {
          "base_uri": "https://localhost:8080/",
          "height": 265
        },
        "id": "28qJ8sPANEAb",
        "outputId": "215643bc-c244-45dc-afd9-42d6bd28f292"
      },
      "execution_count": 16,
      "outputs": [
        {
          "output_type": "display_data",
          "data": {
            "text/plain": [
              "<Figure size 432x288 with 1 Axes>"
            ],
            "image/png": "[encoded data removed]"
          },
          "metadata": {
            "needs_background": "light"
          }
        }
      ]
    },
    {
      "cell_type": "code",
      "source": [
        "# We can see there is Overfiiting in this.\n",
        "\n",
        "plt.plot(logs.history['loss'], color='red', label='training-loss')\n",
        "plt.plot(logs.history['val_loss'], color='green', label='validation-loss')\n",
        "plt.legend()\n",
        "plt.show()"
      ],
      "metadata": {
        "colab": {
          "base_uri": "https://localhost:8080/",
          "height": 265
        },
        "id": "8_OqPbaaWNh3",
        "outputId": "c14f382b-c850-4a92-822c-c210c796abdf"
      },
      "execution_count": 17,
      "outputs": [
        {
          "output_type": "display_data",
          "data": {
            "text/plain": [
              "<Figure size 432x288 with 1 Axes>"
            ],
            "image/png": "[encoded data removed]"
          },
          "metadata": {
            "needs_background": "light"
          }
        }
      ]
    }
  ]
}