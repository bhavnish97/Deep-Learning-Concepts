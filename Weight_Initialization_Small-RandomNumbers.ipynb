{
  "nbformat": 4,
  "nbformat_minor": 0,
  "metadata": {
    "colab": {
      "provenance": []
    },
    "kernelspec": {
      "name": "python3",
      "display_name": "Python 3"
    },
    "language_info": {
      "name": "python"
    }
  },
  "cells": [
    {
      "cell_type": "code",
      "execution_count": 1,
      "metadata": {
        "id": "xuvl1FCiO5gV"
      },
      "outputs": [],
      "source": [
        "import numpy as np\n",
        "import pandas as pd\n",
        "import matplotlib.pyplot as plt"
      ]
    },
    {
      "cell_type": "code",
      "source": [
        "df = pd.DataFrame(columns = ['X','Y','class'], data=[[0.787,0.577,1],[-0.678, 0.568,0],[0.244, 0.126,1],[0.617,0.977,1],[-0.187,0.311,0]])"
      ],
      "metadata": {
        "id": "UdV02xHEPCiE"
      },
      "execution_count": 12,
      "outputs": []
    },
    {
      "cell_type": "code",
      "source": [
        "df"
      ],
      "metadata": {
        "colab": {
          "base_uri": "https://localhost:8080/",
          "height": 206
        },
        "id": "80oAY9qcPCkI",
        "outputId": "fa5f5cf0-ae30-48c9-b8c8-d591d2a7b4b3"
      },
      "execution_count": 13,
      "outputs": [
        {
          "output_type": "execute_result",
          "data": {
            "text/plain": [
              "       X      Y  class\n",
              "0  0.787  0.577      1\n",
              "1 -0.678  0.568      0\n",
              "2  0.244  0.126      1\n",
              "3  0.617  0.977      1\n",
              "4 -0.187  0.311      0"
            ],
            "text/html": [
              "\n",
              "  <div id=\"df-3e70b6bd-dd4c-41c2-96f4-f36b117eef1f\">\n",
              "    <div class=\"colab-df-container\">\n",
              "      <div>\n",
              "<style scoped>\n",
              "    .dataframe tbody tr th:only-of-type {\n",
              "        vertical-align: middle;\n",
              "    }\n",
              "\n",
              "    .dataframe tbody tr th {\n",
              "        vertical-align: top;\n",
              "    }\n",
              "\n",
              "    .dataframe thead th {\n",
              "        text-align: right;\n",
              "    }\n",
              "</style>\n",
              "<table border=\"1\" class=\"dataframe\">\n",
              "  <thead>\n",
              "    <tr style=\"text-align: right;\">\n",
              "      <th></th>\n",
              "      <th>X</th>\n",
              "      <th>Y</th>\n",
              "      <th>class</th>\n",
              "    </tr>\n",
              "  </thead>\n",
              "  <tbody>\n",
              "    <tr>\n",
              "      <th>0</th>\n",
              "      <td>0.787</td>\n",
              "      <td>0.577</td>\n",
              "      <td>1</td>\n",
              "    </tr>\n",
              "    <tr>\n",
              "      <th>1</th>\n",
              "      <td>-0.678</td>\n",
              "      <td>0.568</td>\n",
              "      <td>0</td>\n",
              "    </tr>\n",
              "    <tr>\n",
              "      <th>2</th>\n",
              "      <td>0.244</td>\n",
              "      <td>0.126</td>\n",
              "      <td>1</td>\n",
              "    </tr>\n",
              "    <tr>\n",
              "      <th>3</th>\n",
              "      <td>0.617</td>\n",
              "      <td>0.977</td>\n",
              "      <td>1</td>\n",
              "    </tr>\n",
              "    <tr>\n",
              "      <th>4</th>\n",
              "      <td>-0.187</td>\n",
              "      <td>0.311</td>\n",
              "      <td>0</td>\n",
              "    </tr>\n",
              "  </tbody>\n",
              "</table>\n",
              "</div>\n",
              "      <button class=\"colab-df-convert\" onclick=\"convertToInteractive('df-3e70b6bd-dd4c-41c2-96f4-f36b117eef1f')\"\n",
              "              title=\"Convert this dataframe to an interactive table.\"\n",
              "              style=\"display:none;\">\n",
              "        \n",
              "  <svg xmlns=\"http://www.w3.org/2000/svg\" height=\"24px\"viewBox=\"0 0 24 24\"\n",
              "       width=\"24px\">\n",
              "    <path d=\"M0 0h24v24H0V0z\" fill=\"none\"/>\n",
              "    <path d=\"M18.56 5.44l.94 2.06.94-2.06 2.06-.94-2.06-.94-.94-2.06-.94 2.06-2.06.94zm-11 1L8.5 8.5l.94-2.06 2.06-.94-2.06-.94L8.5 2.5l-.94 2.06-2.06.94zm10 10l.94 2.06.94-2.06 2.06-.94-2.06-.94-.94-2.06-.94 2.06-2.06.94z\"/><path d=\"M17.41 7.96l-1.37-1.37c-.4-.4-.92-.59-1.43-.59-.52 0-1.04.2-1.43.59L10.3 9.45l-7.72 7.72c-.78.78-.78 2.05 0 2.83L4 21.41c.39.39.9.59 1.41.59.51 0 1.02-.2 1.41-.59l7.78-7.78 2.81-2.81c.8-.78.8-2.07 0-2.86zM5.41 20L4 18.59l7.72-7.72 1.47 1.35L5.41 20z\"/>\n",
              "  </svg>\n",
              "      </button>\n",
              "      \n",
              "  <style>\n",
              "    .colab-df-container {\n",
              "      display:flex;\n",
              "      flex-wrap:wrap;\n",
              "      gap: 12px;\n",
              "    }\n",
              "\n",
              "    .colab-df-convert {\n",
              "      background-color: #E8F0FE;\n",
              "      border: none;\n",
              "      border-radius: 50%;\n",
              "      cursor: pointer;\n",
              "      display: none;\n",
              "      fill: #1967D2;\n",
              "      height: 32px;\n",
              "      padding: 0 0 0 0;\n",
              "      width: 32px;\n",
              "    }\n",
              "\n",
              "    .colab-df-convert:hover {\n",
              "      background-color: #E2EBFA;\n",
              "      box-shadow: 0px 1px 2px rgba(60, 64, 67, 0.3), 0px 1px 3px 1px rgba(60, 64, 67, 0.15);\n",
              "      fill: #174EA6;\n",
              "    }\n",
              "\n",
              "    [theme=dark] .colab-df-convert {\n",
              "      background-color: #3B4455;\n",
              "      fill: #D2E3FC;\n",
              "    }\n",
              "\n",
              "    [theme=dark] .colab-df-convert:hover {\n",
              "      background-color: #434B5C;\n",
              "      box-shadow: 0px 1px 3px 1px rgba(0, 0, 0, 0.15);\n",
              "      filter: drop-shadow(0px 1px 2px rgba(0, 0, 0, 0.3));\n",
              "      fill: #FFFFFF;\n",
              "    }\n",
              "  </style>\n",
              "\n",
              "      <script>\n",
              "        const buttonEl =\n",
              "          document.querySelector('#df-3e70b6bd-dd4c-41c2-96f4-f36b117eef1f button.colab-df-convert');\n",
              "        buttonEl.style.display =\n",
              "          google.colab.kernel.accessAllowed ? 'block' : 'none';\n",
              "\n",
              "        async function convertToInteractive(key) {\n",
              "          const element = document.querySelector('#df-3e70b6bd-dd4c-41c2-96f4-f36b117eef1f');\n",
              "          const dataTable =\n",
              "            await google.colab.kernel.invokeFunction('convertToInteractive',\n",
              "                                                     [key], {});\n",
              "          if (!dataTable) return;\n",
              "\n",
              "          const docLinkHtml = 'Like what you see? Visit the ' +\n",
              "            '<a target=\"_blank\" href=https://colab.research.google.com/notebooks/data_table.ipynb>data table notebook</a>'\n",
              "            + ' to learn more about interactive tables.';\n",
              "          element.innerHTML = '';\n",
              "          dataTable['output_type'] = 'display_data';\n",
              "          await google.colab.output.renderOutput(dataTable, element);\n",
              "          const docLink = document.createElement('div');\n",
              "          docLink.innerHTML = docLinkHtml;\n",
              "          element.appendChild(docLink);\n",
              "        }\n",
              "      </script>\n",
              "    </div>\n",
              "  </div>\n",
              "  "
            ]
          },
          "metadata": {},
          "execution_count": 13
        }
      ]
    },
    {
      "cell_type": "code",
      "source": [
        "plt.scatter(df['X'],df['Y'],c=df['class'])"
      ],
      "metadata": {
        "colab": {
          "base_uri": "https://localhost:8080/",
          "height": 282
        },
        "id": "-Q9atZfgPCl_",
        "outputId": "1b1c5357-0ea2-4032-b1ea-c012ec8d7941"
      },
      "execution_count": 16,
      "outputs": [
        {
          "output_type": "execute_result",
          "data": {
            "text/plain": [
              "<matplotlib.collections.PathCollection at 0x7fefff2bb790>"
            ]
          },
          "metadata": {},
          "execution_count": 16
        },
        {
          "output_type": "display_data",
          "data": {
            "text/plain": [
              "<Figure size 432x288 with 1 Axes>"
            ],
            "image/png": "[encoded data removed]"
          },
          "metadata": {
            "needs_background": "light"
          }
        }
      ]
    },
    {
      "cell_type": "code",
      "source": [
        "X = df.iloc[:,0:2].values\n",
        "y = df.iloc[:,-1].values"
      ],
      "metadata": {
        "id": "whMxpiShRrzf"
      },
      "execution_count": 19,
      "outputs": []
    },
    {
      "cell_type": "code",
      "source": [
        "X"
      ],
      "metadata": {
        "colab": {
          "base_uri": "https://localhost:8080/"
        },
        "id": "rwtltA0WRr3i",
        "outputId": "18cc9d34-dee2-45cf-c36f-20450c13895c"
      },
      "execution_count": 20,
      "outputs": [
        {
          "output_type": "execute_result",
          "data": {
            "text/plain": [
              "array([[ 0.787,  0.577],\n",
              "       [-0.678,  0.568],\n",
              "       [ 0.244,  0.126],\n",
              "       [ 0.617,  0.977],\n",
              "       [-0.187,  0.311]])"
            ]
          },
          "metadata": {},
          "execution_count": 20
        }
      ]
    },
    {
      "cell_type": "code",
      "source": [
        "import tensorflow\n",
        "from tensorflow import keras\n",
        "from keras import Sequential\n",
        "from keras.layers import Dense"
      ],
      "metadata": {
        "id": "Yxd3eylVRr5E"
      },
      "execution_count": 21,
      "outputs": []
    },
    {
      "cell_type": "code",
      "source": [
        "model = Sequential()"
      ],
      "metadata": {
        "id": "ks_lgQbdSs9y"
      },
      "execution_count": 22,
      "outputs": []
    },
    {
      "cell_type": "code",
      "source": [
        "model.add(Dense(2,activation='tanh', input_dim=2))\n",
        "model.add(Dense(2,activation='tanh'))\n",
        "model.add(Dense(2,activation='tanh'))\n",
        "model.add(Dense(2,activation='tanh'))\n",
        "model.add(Dense(1,activation='sigmoid'))\n",
        "\n",
        "model.summary()"
      ],
      "metadata": {
        "colab": {
          "base_uri": "https://localhost:8080/"
        },
        "id": "AwisxdpFSs_t",
        "outputId": "99cd6637-97b8-4536-9924-d47d7e6f5af3"
      },
      "execution_count": 24,
      "outputs": [
        {
          "output_type": "stream",
          "name": "stdout",
          "text": [
            "Model: \"sequential\"\n",
            "_________________________________________________________________\n",
            " Layer (type)                Output Shape              Param #   \n",
            "=================================================================\n",
            " dense_1 (Dense)             (None, 2)                 6         \n",
            "                                                                 \n",
            " dense_2 (Dense)             (None, 2)                 6         \n",
            "                                                                 \n",
            " dense_3 (Dense)             (None, 2)                 6         \n",
            "                                                                 \n",
            " dense_4 (Dense)             (None, 2)                 6         \n",
            "                                                                 \n",
            " dense_5 (Dense)             (None, 1)                 3         \n",
            "                                                                 \n",
            "=================================================================\n",
            "Total params: 27\n",
            "Trainable params: 27\n",
            "Non-trainable params: 0\n",
            "_________________________________________________________________\n"
          ]
        }
      ]
    },
    {
      "cell_type": "code",
      "source": [
        "model.get_weights()"
      ],
      "metadata": {
        "colab": {
          "base_uri": "https://localhost:8080/"
        },
        "id": "om6l2QsPStBR",
        "outputId": "d532ae3b-b8f9-464a-b05c-f6e29af5f456"
      },
      "execution_count": 25,
      "outputs": [
        {
          "output_type": "execute_result",
          "data": {
            "text/plain": [
              "[array([[-0.58580905, -0.51377916],\n",
              "        [ 0.7072506 ,  1.069075  ]], dtype=float32),\n",
              " array([0., 0.], dtype=float32),\n",
              " array([[0.70840025, 1.0847181 ],\n",
              "        [0.8473321 , 1.186221  ]], dtype=float32),\n",
              " array([0., 0.], dtype=float32),\n",
              " array([[-0.12459922,  0.0129118 ],\n",
              "        [-0.6117175 ,  1.0887805 ]], dtype=float32),\n",
              " array([0., 0.], dtype=float32),\n",
              " array([[0.67801154, 1.0812887 ],\n",
              "        [1.2171208 , 0.44180155]], dtype=float32),\n",
              " array([0., 0.], dtype=float32),\n",
              " array([[-0.2348051],\n",
              "        [-1.3050208]], dtype=float32),\n",
              " array([0.], dtype=float32)]"
            ]
          },
          "metadata": {},
          "execution_count": 25
        }
      ]
    },
    {
      "cell_type": "code",
      "source": [
        "initial_weights = model.get_weights()"
      ],
      "metadata": {
        "id": "ba7J8rHpStDE"
      },
      "execution_count": 26,
      "outputs": []
    },
    {
      "cell_type": "code",
      "source": [
        "# Weight Initialization with small Random values\n",
        "initial_weights[0]= np.random.randn(model.get_weights()[0].shape[0],model.get_weights()[0].shape[1])*0.01\n",
        "initial_weights[1] = np.zeros(model.get_weights()[1].shape)\n",
        "initial_weights[2] = np.random.randn(model.get_weights()[2].shape[0],model.get_weights()[2].shape[1])*0.01\n",
        "initial_weights[3] = np.zeros(model.get_weights()[3].shape)\n",
        "initial_weights[4] = np.random.randn(model.get_weights()[4].shape[0],model.get_weights()[4].shape[1])*0.01\n",
        "initial_weights[5] = np.zeros(model.get_weights()[5].shape)\n",
        "initial_weights[6] = np.random.randn(model.get_weights()[6].shape[0],model.get_weights()[6].shape[1])*0.01\n",
        "initial_weights[7] = np.zeros(model.get_weights()[7].shape)\n",
        "initial_weights[8] = np.random.randn(model.get_weights()[8].shape[0],model.get_weights()[8].shape[1])*0.01\n",
        "initial_weights[9] = np.zeros(model.get_weights()[9].shape)"
      ],
      "metadata": {
        "id": "znU3CpoGStEi"
      },
      "execution_count": 35,
      "outputs": []
    },
    {
      "cell_type": "code",
      "source": [
        "initial_weights"
      ],
      "metadata": {
        "colab": {
          "base_uri": "https://localhost:8080/"
        },
        "id": "fx1TTDWrStGR",
        "outputId": "a4c65195-40af-4406-a730-105f534debc7"
      },
      "execution_count": 36,
      "outputs": [
        {
          "output_type": "execute_result",
          "data": {
            "text/plain": [
              "[array([[-0.00142761,  0.00086498],\n",
              "        [ 0.01333371,  0.02042427]]),\n",
              " array([0., 0.]),\n",
              " array([[-0.02044843, -0.00635365],\n",
              "        [-0.00082927,  0.00750701]]),\n",
              " array([0., 0.]),\n",
              " array([[ 0.01410603, -0.00169039],\n",
              "        [ 0.00357612, -0.01005729]]),\n",
              " array([0., 0.]),\n",
              " array([[-0.00245041,  0.02595435],\n",
              "        [ 0.00439637, -0.00992945]]),\n",
              " array([0., 0.]),\n",
              " array([[-0.01329237],\n",
              "        [-0.00856384]]),\n",
              " array([0.])]"
            ]
          },
          "metadata": {},
          "execution_count": 36
        }
      ]
    },
    {
      "cell_type": "code",
      "source": [
        "model.set_weights(initial_weights)"
      ],
      "metadata": {
        "id": "MNKlHTJhStIi"
      },
      "execution_count": 37,
      "outputs": []
    },
    {
      "cell_type": "code",
      "source": [
        "model.get_weights()"
      ],
      "metadata": {
        "colab": {
          "base_uri": "https://localhost:8080/"
        },
        "id": "sDfFd-U5StL7",
        "outputId": "d04eb8d3-a1dc-4c1b-8b8a-bbb70390c5f6"
      },
      "execution_count": 39,
      "outputs": [
        {
          "output_type": "execute_result",
          "data": {
            "text/plain": [
              "[array([[-0.00142761,  0.00086498],\n",
              "        [ 0.01333371,  0.02042427]], dtype=float32),\n",
              " array([0., 0.], dtype=float32),\n",
              " array([[-0.02044843, -0.00635365],\n",
              "        [-0.00082927,  0.00750701]], dtype=float32),\n",
              " array([0., 0.], dtype=float32),\n",
              " array([[ 0.01410603, -0.00169039],\n",
              "        [ 0.00357612, -0.01005729]], dtype=float32),\n",
              " array([0., 0.], dtype=float32),\n",
              " array([[-0.00245041,  0.02595435],\n",
              "        [ 0.00439637, -0.00992945]], dtype=float32),\n",
              " array([0., 0.], dtype=float32),\n",
              " array([[-0.01329237],\n",
              "        [-0.00856384]], dtype=float32),\n",
              " array([0.], dtype=float32)]"
            ]
          },
          "metadata": {},
          "execution_count": 39
        }
      ]
    },
    {
      "cell_type": "code",
      "source": [
        "model.compile(loss ='binary_crossentropy', optimizer='adam', metrics=['accuracy'])"
      ],
      "metadata": {
        "id": "tk6Ob0ZcRr76"
      },
      "execution_count": 40,
      "outputs": []
    },
    {
      "cell_type": "code",
      "source": [
        "dl_model = model.fit(X,y,epochs=100, validation_split=0.2)"
      ],
      "metadata": {
        "colab": {
          "base_uri": "https://localhost:8080/"
        },
        "id": "Twal5fJOXmle",
        "outputId": "631d9cab-b5c8-4bc9-d498-5918a07520c2"
      },
      "execution_count": 41,
      "outputs": [
        {
          "output_type": "stream",
          "name": "stdout",
          "text": [
            "Epoch 1/100\n",
            "1/1 [==============================] - 1s 1s/step - loss: 0.6931 - accuracy: 0.2500 - val_loss: 0.6937 - val_accuracy: 0.0000e+00\n",
            "Epoch 2/100\n",
            "1/1 [==============================] - 0s 32ms/step - loss: 0.6929 - accuracy: 0.7500 - val_loss: 0.6942 - val_accuracy: 0.0000e+00\n",
            "Epoch 3/100\n",
            "1/1 [==============================] - 0s 28ms/step - loss: 0.6926 - accuracy: 0.7500 - val_loss: 0.6947 - val_accuracy: 0.0000e+00\n",
            "Epoch 4/100\n",
            "1/1 [==============================] - 0s 31ms/step - loss: 0.6924 - accuracy: 0.7500 - val_loss: 0.6952 - val_accuracy: 0.0000e+00\n",
            "Epoch 5/100\n",
            "1/1 [==============================] - 0s 28ms/step - loss: 0.6921 - accuracy: 0.7500 - val_loss: 0.6957 - val_accuracy: 0.0000e+00\n",
            "Epoch 6/100\n",
            "1/1 [==============================] - 0s 48ms/step - loss: 0.6919 - accuracy: 0.7500 - val_loss: 0.6962 - val_accuracy: 0.0000e+00\n",
            "Epoch 7/100\n",
            "1/1 [==============================] - 0s 34ms/step - loss: 0.6916 - accuracy: 0.7500 - val_loss: 0.6968 - val_accuracy: 0.0000e+00\n",
            "Epoch 8/100\n",
            "1/1 [==============================] - 0s 30ms/step - loss: 0.6913 - accuracy: 0.7500 - val_loss: 0.6973 - val_accuracy: 0.0000e+00\n",
            "Epoch 9/100\n",
            "1/1 [==============================] - 0s 28ms/step - loss: 0.6911 - accuracy: 0.7500 - val_loss: 0.6978 - val_accuracy: 0.0000e+00\n",
            "Epoch 10/100\n",
            "1/1 [==============================] - 0s 29ms/step - loss: 0.6908 - accuracy: 0.7500 - val_loss: 0.6984 - val_accuracy: 0.0000e+00\n",
            "Epoch 11/100\n",
            "1/1 [==============================] - 0s 31ms/step - loss: 0.6906 - accuracy: 0.7500 - val_loss: 0.6989 - val_accuracy: 0.0000e+00\n",
            "Epoch 12/100\n",
            "1/1 [==============================] - 0s 32ms/step - loss: 0.6903 - accuracy: 0.7500 - val_loss: 0.6994 - val_accuracy: 0.0000e+00\n",
            "Epoch 13/100\n",
            "1/1 [==============================] - 0s 33ms/step - loss: 0.6900 - accuracy: 0.7500 - val_loss: 0.7000 - val_accuracy: 0.0000e+00\n",
            "Epoch 14/100\n",
            "1/1 [==============================] - 0s 34ms/step - loss: 0.6898 - accuracy: 0.7500 - val_loss: 0.7005 - val_accuracy: 0.0000e+00\n",
            "Epoch 15/100\n",
            "1/1 [==============================] - 0s 29ms/step - loss: 0.6895 - accuracy: 0.7500 - val_loss: 0.7011 - val_accuracy: 0.0000e+00\n",
            "Epoch 16/100\n",
            "1/1 [==============================] - 0s 33ms/step - loss: 0.6892 - accuracy: 0.7500 - val_loss: 0.7016 - val_accuracy: 0.0000e+00\n",
            "Epoch 17/100\n",
            "1/1 [==============================] - 0s 30ms/step - loss: 0.6890 - accuracy: 0.7500 - val_loss: 0.7022 - val_accuracy: 0.0000e+00\n",
            "Epoch 18/100\n",
            "1/1 [==============================] - 0s 31ms/step - loss: 0.6887 - accuracy: 0.7500 - val_loss: 0.7027 - val_accuracy: 0.0000e+00\n",
            "Epoch 19/100\n",
            "1/1 [==============================] - 0s 53ms/step - loss: 0.6884 - accuracy: 0.7500 - val_loss: 0.7033 - val_accuracy: 0.0000e+00\n",
            "Epoch 20/100\n",
            "1/1 [==============================] - 0s 34ms/step - loss: 0.6882 - accuracy: 0.7500 - val_loss: 0.7038 - val_accuracy: 0.0000e+00\n",
            "Epoch 21/100\n",
            "1/1 [==============================] - 0s 58ms/step - loss: 0.6879 - accuracy: 0.7500 - val_loss: 0.7044 - val_accuracy: 0.0000e+00\n",
            "Epoch 22/100\n",
            "1/1 [==============================] - 0s 41ms/step - loss: 0.6876 - accuracy: 0.7500 - val_loss: 0.7050 - val_accuracy: 0.0000e+00\n",
            "Epoch 23/100\n",
            "1/1 [==============================] - 0s 30ms/step - loss: 0.6873 - accuracy: 0.7500 - val_loss: 0.7056 - val_accuracy: 0.0000e+00\n",
            "Epoch 24/100\n",
            "1/1 [==============================] - 0s 28ms/step - loss: 0.6871 - accuracy: 0.7500 - val_loss: 0.7061 - val_accuracy: 0.0000e+00\n",
            "Epoch 25/100\n",
            "1/1 [==============================] - 0s 28ms/step - loss: 0.6868 - accuracy: 0.7500 - val_loss: 0.7067 - val_accuracy: 0.0000e+00\n",
            "Epoch 26/100\n",
            "1/1 [==============================] - 0s 32ms/step - loss: 0.6865 - accuracy: 0.7500 - val_loss: 0.7073 - val_accuracy: 0.0000e+00\n",
            "Epoch 27/100\n",
            "1/1 [==============================] - 0s 30ms/step - loss: 0.6862 - accuracy: 0.7500 - val_loss: 0.7079 - val_accuracy: 0.0000e+00\n",
            "Epoch 28/100\n",
            "1/1 [==============================] - 0s 28ms/step - loss: 0.6859 - accuracy: 0.7500 - val_loss: 0.7085 - val_accuracy: 0.0000e+00\n",
            "Epoch 29/100\n",
            "1/1 [==============================] - 0s 29ms/step - loss: 0.6856 - accuracy: 0.7500 - val_loss: 0.7091 - val_accuracy: 0.0000e+00\n",
            "Epoch 30/100\n",
            "1/1 [==============================] - 0s 29ms/step - loss: 0.6854 - accuracy: 0.7500 - val_loss: 0.7097 - val_accuracy: 0.0000e+00\n",
            "Epoch 31/100\n",
            "1/1 [==============================] - 0s 32ms/step - loss: 0.6851 - accuracy: 0.7500 - val_loss: 0.7103 - val_accuracy: 0.0000e+00\n",
            "Epoch 32/100\n",
            "1/1 [==============================] - 0s 30ms/step - loss: 0.6848 - accuracy: 0.7500 - val_loss: 0.7109 - val_accuracy: 0.0000e+00\n",
            "Epoch 33/100\n",
            "1/1 [==============================] - 0s 30ms/step - loss: 0.6845 - accuracy: 0.7500 - val_loss: 0.7116 - val_accuracy: 0.0000e+00\n",
            "Epoch 34/100\n",
            "1/1 [==============================] - 0s 33ms/step - loss: 0.6842 - accuracy: 0.7500 - val_loss: 0.7122 - val_accuracy: 0.0000e+00\n",
            "Epoch 35/100\n",
            "1/1 [==============================] - 0s 33ms/step - loss: 0.6839 - accuracy: 0.7500 - val_loss: 0.7128 - val_accuracy: 0.0000e+00\n",
            "Epoch 36/100\n",
            "1/1 [==============================] - 0s 30ms/step - loss: 0.6836 - accuracy: 0.7500 - val_loss: 0.7135 - val_accuracy: 0.0000e+00\n",
            "Epoch 37/100\n",
            "1/1 [==============================] - 0s 55ms/step - loss: 0.6833 - accuracy: 0.7500 - val_loss: 0.7141 - val_accuracy: 0.0000e+00\n",
            "Epoch 38/100\n",
            "1/1 [==============================] - 0s 31ms/step - loss: 0.6830 - accuracy: 0.7500 - val_loss: 0.7148 - val_accuracy: 0.0000e+00\n",
            "Epoch 39/100\n",
            "1/1 [==============================] - 0s 28ms/step - loss: 0.6827 - accuracy: 0.7500 - val_loss: 0.7154 - val_accuracy: 0.0000e+00\n",
            "Epoch 40/100\n",
            "1/1 [==============================] - 0s 28ms/step - loss: 0.6824 - accuracy: 0.7500 - val_loss: 0.7161 - val_accuracy: 0.0000e+00\n",
            "Epoch 41/100\n",
            "1/1 [==============================] - 0s 28ms/step - loss: 0.6821 - accuracy: 0.7500 - val_loss: 0.7167 - val_accuracy: 0.0000e+00\n",
            "Epoch 42/100\n",
            "1/1 [==============================] - 0s 32ms/step - loss: 0.6818 - accuracy: 0.7500 - val_loss: 0.7174 - val_accuracy: 0.0000e+00\n",
            "Epoch 43/100\n",
            "1/1 [==============================] - 0s 30ms/step - loss: 0.6814 - accuracy: 0.7500 - val_loss: 0.7181 - val_accuracy: 0.0000e+00\n",
            "Epoch 44/100\n",
            "1/1 [==============================] - 0s 31ms/step - loss: 0.6811 - accuracy: 0.7500 - val_loss: 0.7188 - val_accuracy: 0.0000e+00\n",
            "Epoch 45/100\n",
            "1/1 [==============================] - 0s 32ms/step - loss: 0.6808 - accuracy: 0.7500 - val_loss: 0.7195 - val_accuracy: 0.0000e+00\n",
            "Epoch 46/100\n",
            "1/1 [==============================] - 0s 28ms/step - loss: 0.6805 - accuracy: 0.7500 - val_loss: 0.7202 - val_accuracy: 0.0000e+00\n",
            "Epoch 47/100\n",
            "1/1 [==============================] - 0s 32ms/step - loss: 0.6802 - accuracy: 0.7500 - val_loss: 0.7209 - val_accuracy: 0.0000e+00\n",
            "Epoch 48/100\n",
            "1/1 [==============================] - 0s 30ms/step - loss: 0.6798 - accuracy: 0.7500 - val_loss: 0.7216 - val_accuracy: 0.0000e+00\n",
            "Epoch 49/100\n",
            "1/1 [==============================] - 0s 29ms/step - loss: 0.6795 - accuracy: 0.7500 - val_loss: 0.7223 - val_accuracy: 0.0000e+00\n",
            "Epoch 50/100\n",
            "1/1 [==============================] - 0s 33ms/step - loss: 0.6792 - accuracy: 0.7500 - val_loss: 0.7231 - val_accuracy: 0.0000e+00\n",
            "Epoch 51/100\n",
            "1/1 [==============================] - 0s 39ms/step - loss: 0.6788 - accuracy: 0.7500 - val_loss: 0.7238 - val_accuracy: 0.0000e+00\n",
            "Epoch 52/100\n",
            "1/1 [==============================] - 0s 29ms/step - loss: 0.6785 - accuracy: 0.7500 - val_loss: 0.7245 - val_accuracy: 0.0000e+00\n",
            "Epoch 53/100\n",
            "1/1 [==============================] - 0s 30ms/step - loss: 0.6782 - accuracy: 0.7500 - val_loss: 0.7253 - val_accuracy: 0.0000e+00\n",
            "Epoch 54/100\n",
            "1/1 [==============================] - 0s 31ms/step - loss: 0.6778 - accuracy: 0.7500 - val_loss: 0.7261 - val_accuracy: 0.0000e+00\n",
            "Epoch 55/100\n",
            "1/1 [==============================] - 0s 30ms/step - loss: 0.6775 - accuracy: 0.7500 - val_loss: 0.7268 - val_accuracy: 0.0000e+00\n",
            "Epoch 56/100\n",
            "1/1 [==============================] - 0s 38ms/step - loss: 0.6771 - accuracy: 0.7500 - val_loss: 0.7276 - val_accuracy: 0.0000e+00\n",
            "Epoch 57/100\n",
            "1/1 [==============================] - 0s 33ms/step - loss: 0.6768 - accuracy: 0.7500 - val_loss: 0.7284 - val_accuracy: 0.0000e+00\n",
            "Epoch 58/100\n",
            "1/1 [==============================] - 0s 35ms/step - loss: 0.6764 - accuracy: 0.7500 - val_loss: 0.7292 - val_accuracy: 0.0000e+00\n",
            "Epoch 59/100\n",
            "1/1 [==============================] - 0s 35ms/step - loss: 0.6761 - accuracy: 0.7500 - val_loss: 0.7300 - val_accuracy: 0.0000e+00\n",
            "Epoch 60/100\n",
            "1/1 [==============================] - 0s 47ms/step - loss: 0.6757 - accuracy: 0.7500 - val_loss: 0.7308 - val_accuracy: 0.0000e+00\n",
            "Epoch 61/100\n",
            "1/1 [==============================] - 0s 31ms/step - loss: 0.6753 - accuracy: 0.7500 - val_loss: 0.7316 - val_accuracy: 0.0000e+00\n",
            "Epoch 62/100\n",
            "1/1 [==============================] - 0s 31ms/step - loss: 0.6750 - accuracy: 0.7500 - val_loss: 0.7325 - val_accuracy: 0.0000e+00\n",
            "Epoch 63/100\n",
            "1/1 [==============================] - 0s 32ms/step - loss: 0.6746 - accuracy: 0.7500 - val_loss: 0.7333 - val_accuracy: 0.0000e+00\n",
            "Epoch 64/100\n",
            "1/1 [==============================] - 0s 34ms/step - loss: 0.6742 - accuracy: 0.7500 - val_loss: 0.7341 - val_accuracy: 0.0000e+00\n",
            "Epoch 65/100\n",
            "1/1 [==============================] - 0s 34ms/step - loss: 0.6739 - accuracy: 0.7500 - val_loss: 0.7350 - val_accuracy: 0.0000e+00\n",
            "Epoch 66/100\n",
            "1/1 [==============================] - 0s 30ms/step - loss: 0.6735 - accuracy: 0.7500 - val_loss: 0.7359 - val_accuracy: 0.0000e+00\n",
            "Epoch 67/100\n",
            "1/1 [==============================] - 0s 35ms/step - loss: 0.6731 - accuracy: 0.7500 - val_loss: 0.7368 - val_accuracy: 0.0000e+00\n",
            "Epoch 68/100\n",
            "1/1 [==============================] - 0s 31ms/step - loss: 0.6727 - accuracy: 0.7500 - val_loss: 0.7376 - val_accuracy: 0.0000e+00\n",
            "Epoch 69/100\n",
            "1/1 [==============================] - 0s 29ms/step - loss: 0.6723 - accuracy: 0.7500 - val_loss: 0.7386 - val_accuracy: 0.0000e+00\n",
            "Epoch 70/100\n",
            "1/1 [==============================] - 0s 31ms/step - loss: 0.6719 - accuracy: 0.7500 - val_loss: 0.7395 - val_accuracy: 0.0000e+00\n",
            "Epoch 71/100\n",
            "1/1 [==============================] - 0s 34ms/step - loss: 0.6715 - accuracy: 0.7500 - val_loss: 0.7404 - val_accuracy: 0.0000e+00\n",
            "Epoch 72/100\n",
            "1/1 [==============================] - 0s 32ms/step - loss: 0.6711 - accuracy: 0.7500 - val_loss: 0.7413 - val_accuracy: 0.0000e+00\n",
            "Epoch 73/100\n",
            "1/1 [==============================] - 0s 33ms/step - loss: 0.6707 - accuracy: 0.7500 - val_loss: 0.7423 - val_accuracy: 0.0000e+00\n",
            "Epoch 74/100\n",
            "1/1 [==============================] - 0s 30ms/step - loss: 0.6703 - accuracy: 0.7500 - val_loss: 0.7432 - val_accuracy: 0.0000e+00\n",
            "Epoch 75/100\n",
            "1/1 [==============================] - 0s 30ms/step - loss: 0.6699 - accuracy: 0.7500 - val_loss: 0.7442 - val_accuracy: 0.0000e+00\n",
            "Epoch 76/100\n",
            "1/1 [==============================] - 0s 31ms/step - loss: 0.6695 - accuracy: 0.7500 - val_loss: 0.7452 - val_accuracy: 0.0000e+00\n",
            "Epoch 77/100\n",
            "1/1 [==============================] - 0s 34ms/step - loss: 0.6690 - accuracy: 0.7500 - val_loss: 0.7462 - val_accuracy: 0.0000e+00\n",
            "Epoch 78/100\n",
            "1/1 [==============================] - 0s 36ms/step - loss: 0.6686 - accuracy: 0.7500 - val_loss: 0.7472 - val_accuracy: 0.0000e+00\n",
            "Epoch 79/100\n",
            "1/1 [==============================] - 0s 39ms/step - loss: 0.6682 - accuracy: 0.7500 - val_loss: 0.7482 - val_accuracy: 0.0000e+00\n",
            "Epoch 80/100\n",
            "1/1 [==============================] - 0s 30ms/step - loss: 0.6677 - accuracy: 0.7500 - val_loss: 0.7492 - val_accuracy: 0.0000e+00\n",
            "Epoch 81/100\n",
            "1/1 [==============================] - 0s 34ms/step - loss: 0.6673 - accuracy: 0.7500 - val_loss: 0.7503 - val_accuracy: 0.0000e+00\n",
            "Epoch 82/100\n",
            "1/1 [==============================] - 0s 31ms/step - loss: 0.6669 - accuracy: 0.7500 - val_loss: 0.7513 - val_accuracy: 0.0000e+00\n",
            "Epoch 83/100\n",
            "1/1 [==============================] - 0s 30ms/step - loss: 0.6664 - accuracy: 0.7500 - val_loss: 0.7524 - val_accuracy: 0.0000e+00\n",
            "Epoch 84/100\n",
            "1/1 [==============================] - 0s 33ms/step - loss: 0.6660 - accuracy: 0.7500 - val_loss: 0.7535 - val_accuracy: 0.0000e+00\n",
            "Epoch 85/100\n",
            "1/1 [==============================] - 0s 34ms/step - loss: 0.6655 - accuracy: 0.7500 - val_loss: 0.7546 - val_accuracy: 0.0000e+00\n",
            "Epoch 86/100\n",
            "1/1 [==============================] - 0s 33ms/step - loss: 0.6650 - accuracy: 0.7500 - val_loss: 0.7557 - val_accuracy: 0.0000e+00\n",
            "Epoch 87/100\n",
            "1/1 [==============================] - 0s 32ms/step - loss: 0.6646 - accuracy: 0.7500 - val_loss: 0.7568 - val_accuracy: 0.0000e+00\n",
            "Epoch 88/100\n",
            "1/1 [==============================] - 0s 32ms/step - loss: 0.6641 - accuracy: 0.7500 - val_loss: 0.7580 - val_accuracy: 0.0000e+00\n",
            "Epoch 89/100\n",
            "1/1 [==============================] - 0s 30ms/step - loss: 0.6636 - accuracy: 0.7500 - val_loss: 0.7591 - val_accuracy: 0.0000e+00\n",
            "Epoch 90/100\n",
            "1/1 [==============================] - 0s 36ms/step - loss: 0.6631 - accuracy: 0.7500 - val_loss: 0.7603 - val_accuracy: 0.0000e+00\n",
            "Epoch 91/100\n",
            "1/1 [==============================] - 0s 33ms/step - loss: 0.6626 - accuracy: 0.7500 - val_loss: 0.7615 - val_accuracy: 0.0000e+00\n",
            "Epoch 92/100\n",
            "1/1 [==============================] - 0s 32ms/step - loss: 0.6622 - accuracy: 0.7500 - val_loss: 0.7627 - val_accuracy: 0.0000e+00\n",
            "Epoch 93/100\n",
            "1/1 [==============================] - 0s 33ms/step - loss: 0.6617 - accuracy: 0.7500 - val_loss: 0.7639 - val_accuracy: 0.0000e+00\n",
            "Epoch 94/100\n",
            "1/1 [==============================] - 0s 34ms/step - loss: 0.6612 - accuracy: 0.7500 - val_loss: 0.7651 - val_accuracy: 0.0000e+00\n",
            "Epoch 95/100\n",
            "1/1 [==============================] - 0s 33ms/step - loss: 0.6607 - accuracy: 0.7500 - val_loss: 0.7664 - val_accuracy: 0.0000e+00\n",
            "Epoch 96/100\n",
            "1/1 [==============================] - 0s 31ms/step - loss: 0.6601 - accuracy: 0.7500 - val_loss: 0.7676 - val_accuracy: 0.0000e+00\n",
            "Epoch 97/100\n",
            "1/1 [==============================] - 0s 33ms/step - loss: 0.6596 - accuracy: 0.7500 - val_loss: 0.7689 - val_accuracy: 0.0000e+00\n",
            "Epoch 98/100\n",
            "1/1 [==============================] - 0s 34ms/step - loss: 0.6591 - accuracy: 0.7500 - val_loss: 0.7702 - val_accuracy: 0.0000e+00\n",
            "Epoch 99/100\n",
            "1/1 [==============================] - 0s 31ms/step - loss: 0.6586 - accuracy: 0.7500 - val_loss: 0.7715 - val_accuracy: 0.0000e+00\n",
            "Epoch 100/100\n",
            "1/1 [==============================] - 0s 38ms/step - loss: 0.6580 - accuracy: 0.7500 - val_loss: 0.7729 - val_accuracy: 0.0000e+00\n"
          ]
        }
      ]
    },
    {
      "cell_type": "code",
      "source": [
        "model.get_weights()"
      ],
      "metadata": {
        "colab": {
          "base_uri": "https://localhost:8080/"
        },
        "id": "Y5H-uJZMXmnM",
        "outputId": "6d9c3d42-8fae-41b4-d594-8ff48136399c"
      },
      "execution_count": 42,
      "outputs": [
        {
          "output_type": "execute_result",
          "data": {
            "text/plain": [
              "[array([[0.11867218, 0.09816586],\n",
              "        [0.12495474, 0.11302205]], dtype=float32),\n",
              " array([0.11805039, 0.09620406], dtype=float32),\n",
              " array([[-0.13453332, -0.1190122 ],\n",
              "        [-0.10823987, -0.09804473]], dtype=float32),\n",
              " array([-0.14526704, -0.1417644 ], dtype=float32),\n",
              " array([[ 0.15234585, -0.13745612],\n",
              "        [ 0.13956097, -0.1438963 ]], dtype=float32),\n",
              " array([-0.14757873,  0.14723703], dtype=float32),\n",
              " array([[ 0.14434236,  0.17264384],\n",
              "        [-0.14229558, -0.15645021]], dtype=float32),\n",
              " array([-0.1306767 , -0.13296726], dtype=float32),\n",
              " array([[-0.15043744],\n",
              "        [-0.14580493]], dtype=float32),\n",
              " array([0.09752344], dtype=float32)]"
            ]
          },
          "metadata": {},
          "execution_count": 42
        }
      ]
    },
    {
      "cell_type": "code",
      "source": [],
      "metadata": {
        "id": "CmsL_ghTXmpc"
      },
      "execution_count": null,
      "outputs": []
    },
    {
      "cell_type": "code",
      "source": [],
      "metadata": {
        "id": "xIyW-XmnXmro"
      },
      "execution_count": null,
      "outputs": []
    },
    {
      "cell_type": "code",
      "source": [],
      "metadata": {
        "id": "iWzjYTypXmu0"
      },
      "execution_count": null,
      "outputs": []
    },
    {
      "cell_type": "code",
      "source": [],
      "metadata": {
        "id": "mXfuPcrhPCpm"
      },
      "execution_count": null,
      "outputs": []
    }
  ]
}